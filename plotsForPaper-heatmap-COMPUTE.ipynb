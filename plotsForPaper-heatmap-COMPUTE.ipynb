{
 "cells": [
  {
   "cell_type": "code",
   "execution_count": 1,
   "id": "0b871770-c44b-4fb7-b10a-f70515588b8b",
   "metadata": {},
   "outputs": [],
   "source": [
    "import hes1_langevin_Antoine as langevin\n",
    "import hes1_master_Antoine as master\n",
    "import hes1_utils_Antoine as utils\n",
    "\n",
    "import hes1_utils_general as general\n",
    "import jochen_utils\n",
    "\n",
    "import matplotlib.pyplot as plt\n",
    "import numpy as np\n",
    "import pandas as pd\n",
    "import scipy.interpolate as spinter\n",
    "import scipy.fft\n",
    "import time\n",
    "import datetime as dt\n",
    "import os\n",
    "\n",
    "import time\n",
    "\n",
    "import warnings\n",
    "warnings.filterwarnings(\"ignore\")"
   ]
  },
  {
   "cell_type": "markdown",
   "id": "7b6d7ef7",
   "metadata": {},
   "source": [
    "# Simulation parameters"
   ]
  },
  {
   "cell_type": "code",
   "execution_count": 2,
   "id": "3fbca0d0",
   "metadata": {},
   "outputs": [],
   "source": [
    "alpha_m=39.93\n",
    "alpha_p=21.56\n",
    "mu_m=np.log(2)/30\n",
    "mu_p=np.log(2)/90\n",
    "h=4.78\n",
    "P_0=24201.01\n",
    "\n",
    "T=10000\n",
    "delta_t=0.01\n",
    "\n",
    "n_t=int(T/delta_t)\n",
    "\n",
    "val_lambda=[10**x for x in np.arange(-2,2.1,0.2)]\n",
    "val_Omega=[10**x for x in np.arange(-3,2.1,0.25)]\n",
    "val_tau=[33]\n",
    "\n",
    "n_lambda=np.size(val_lambda)\n",
    "n_Omega=np.size(val_Omega)\n",
    "n_tau=np.size(val_tau)"
   ]
  },
  {
   "cell_type": "markdown",
   "id": "1982cc6a",
   "metadata": {},
   "source": [
    "# Save directory"
   ]
  },
  {
   "cell_type": "code",
   "execution_count": 5,
   "id": "6224fcda",
   "metadata": {},
   "outputs": [],
   "source": [
    "date_and_time=time.localtime()\n",
    "string_date=str(date_and_time.tm_year)+'-'+str(date_and_time.tm_mon)+'-'+str(date_and_time.tm_mday)+'-'+str(date_and_time.tm_hour)+'-'+str(date_and_time.tm_min)+'-'+str(date_and_time.tm_sec)\n",
    "\n",
    "read_directory = os.getcwd() + '\\\\paper plots ' + string_date + ' heatmap'\n",
    "try:\n",
    "    os.makedirs(read_directory)\n",
    "    os.makedirs(read_directory + '\\\\plots')\n",
    "    os.makedirs(read_directory + '\\\\data')\n",
    "except FileExistsError:\n",
    "    pass"
   ]
  },
  {
   "cell_type": "markdown",
   "id": "9b6d1671",
   "metadata": {},
   "source": [
    "# Computation"
   ]
  },
  {
   "cell_type": "code",
   "execution_count": 6,
   "id": "db3b5de5",
   "metadata": {},
   "outputs": [],
   "source": [
    "n_iter_master = 2\n",
    "n_iter_sde = 2\n",
    "\n",
    "T = 10000 #100000\n",
    "sampling_timestep = 1\n",
    "n_t=int(T/sampling_timestep)"
   ]
  },
  {
   "cell_type": "code",
   "execution_count": 7,
   "id": "49f567e1",
   "metadata": {},
   "outputs": [],
   "source": [
    "arr_mean_Mm=np.zeros((n_lambda,n_Omega))\n",
    "arr_mean_Pm=np.zeros((n_lambda,n_Omega))\n",
    "\n",
    "arr_mean_Ml=np.zeros((n_lambda,n_Omega))\n",
    "arr_mean_Pl=np.zeros((n_lambda,n_Omega))"
   ]
  },
  {
   "cell_type": "code",
   "execution_count": 8,
   "id": "c3e65494",
   "metadata": {},
   "outputs": [],
   "source": [
    "arr_std_Mm=np.zeros((n_lambda,n_Omega))\n",
    "arr_std_Pm=np.zeros((n_lambda,n_Omega))\n",
    "\n",
    "arr_std_Ml=np.zeros((n_lambda,n_Omega))\n",
    "arr_std_Pl=np.zeros((n_lambda,n_Omega))"
   ]
  },
  {
   "cell_type": "code",
   "execution_count": 9,
   "id": "45ec715f",
   "metadata": {},
   "outputs": [],
   "source": [
    "arr_momFour_Mm=np.zeros((n_lambda,n_Omega))\n",
    "arr_momFour_Pm=np.zeros((n_lambda,n_Omega))\n",
    "\n",
    "arr_momFour_Ml=np.zeros((n_lambda,n_Omega))\n",
    "arr_momFour_Pl=np.zeros((n_lambda,n_Omega))"
   ]
  },
  {
   "cell_type": "code",
   "execution_count": 10,
   "id": "ab66ed28",
   "metadata": {
    "scrolled": true
   },
   "outputs": [
    {
     "name": "stdout",
     "output_type": "stream",
     "text": [
      "Value of lambda: 99.9999999999998\n",
      "Value of Omega: 100.0\n",
      "Value of tau: 33\n",
      "\n",
      "\n",
      "Number of iterations:  2 2\n",
      "Computation time:  0.0 h  2.0 min  12.425011157989502 s\n",
      "\n",
      "\n"
     ]
    }
   ],
   "source": [
    "k=0\n",
    "\n",
    "for i in range(n_lambda-1, n_lambda):\n",
    "    for j in range(n_Omega-1, n_Omega):\n",
    "\n",
    "        valueOfLambda = val_lambda[i]\n",
    "        valueOfOmega = val_Omega[j]\n",
    "        valueOfTau = val_tau[k]\n",
    "\n",
    "        t0 = time.time()\n",
    "\n",
    "        print(\"Value of lambda:\", valueOfLambda)\n",
    "        print(\"Value of Omega:\", valueOfOmega)\n",
    "        print(\"Value of tau:\", valueOfTau)\n",
    "\n",
    "        if valueOfLambda <= 0.1:\n",
    "            n_iter_master = 2\n",
    "            n_iter_sde = 2\n",
    "        else:\n",
    "            n_iter_master = 2 #20\n",
    "            n_iter_sde = 2 #20\n",
    "\n",
    "        output=general.simulate_master_meanAndStd(n_iter=n_iter_master, alpha_m=alpha_m,alpha_p=alpha_p,mu_m=mu_m,mu_p=mu_p,\n",
    "                                                                    h=h,\n",
    "                                                                    P_0=P_0,\n",
    "                                                                    lambda_s=valueOfLambda,\n",
    "                                                                    tau=valueOfTau,\n",
    "                                                                    P_init=0,\n",
    "                                                                    M_init=0,\n",
    "                                                                    T=T,\n",
    "                                                                    delta_t=delta_t,\n",
    "                                                                    Omega=valueOfOmega,\n",
    "                                                                    sampling_timestep = sampling_timestep)\n",
    "\n",
    "        arr_mean_Mm[i,j]=output[\"mean Mm\"]\n",
    "        arr_mean_Pm[i,j]=output[\"mean Pm\"]\n",
    "        arr_std_Mm[i,j]=output[\"std Mm\"]\n",
    "        arr_std_Pm[i,j]=output[\"std Pm\"]\n",
    "        arr_momFour_Mm[i,j]=output[\"momentumFour Mm\"]\n",
    "        arr_momFour_Pm[i,j]=output[\"momentumFour Pm\"]\n",
    "\n",
    "        output=general.simulate_langevin_meanAndStd(n_iter=n_iter_sde,alpha_m=alpha_m,alpha_p=alpha_p,mu_m=mu_m,mu_p=mu_p,\n",
    "                                                                    h=h,\n",
    "                                                                    P_0=P_0,\n",
    "                                                                    lambda_s=valueOfLambda,\n",
    "                                                                    tau=valueOfTau,\n",
    "                                                                    P_init=0,\n",
    "                                                                    M_init=0,\n",
    "                                                                    T=T,\n",
    "                                                                    delta_t=delta_t,\n",
    "                                                                    Omega=valueOfOmega,\n",
    "                                                                    sampling_timestep = sampling_timestep)            \n",
    "        arr_mean_Ml[i,j]=output[\"mean Ml\"]\n",
    "        arr_mean_Pl[i,j]=output[\"mean Pl\"]\n",
    "        arr_std_Ml[i,j]=output[\"std Ml\"]\n",
    "        arr_std_Pl[i,j]=output[\"std Pl\"]\n",
    "        arr_momFour_Ml[i,j]=output[\"momentumFour Ml\"]\n",
    "        arr_momFour_Pl[i,j]=output[\"momentumFour Pl\"]\n",
    "\n",
    "        print(\"\\n\")\n",
    "        print(\"Number of iterations: \", n_iter_master, n_iter_sde)\n",
    "        print(\"Computation time: \", (time.time() - t0)//3600, \"h \", ((time.time() - t0)//60)%60, \"min \", (time.time() - t0)%60, \"s\")\n",
    "        print(\"\\n\")\n"
   ]
  },
  {
   "cell_type": "code",
   "execution_count": 16,
   "id": "56eb2d04",
   "metadata": {},
   "outputs": [],
   "source": [
    "spec= [alpha_m, alpha_p, mu_m, mu_p, h, P_0, T, delta_t]\n",
    "\n",
    "pd.DataFrame(spec,columns=['value']).to_csv(read_directory+'\\\\data\\\\spec.csv')\n",
    "pd.DataFrame(val_lambda,columns=['value']).to_csv(read_directory+'\\\\data\\\\lambda.csv')\n",
    "pd.DataFrame(val_Omega,columns=['value']).to_csv(read_directory+'\\\\data\\\\Omega.csv')\n",
    "pd.DataFrame(val_tau,columns=['value']).to_csv(read_directory+'\\\\data\\\\tau.csv')\n",
    "\n",
    "pd.DataFrame(arr_std_Mm).to_csv(read_directory+'\\\\data\\\\std-Mm.csv')\n",
    "pd.DataFrame(arr_std_Pm).to_csv(read_directory+'\\\\data\\\\std-Pm.csv')\n",
    "pd.DataFrame(arr_std_Ml).to_csv(read_directory+'\\\\data\\\\std-Ml.csv')\n",
    "pd.DataFrame(arr_std_Pl).to_csv(read_directory+'\\\\data\\\\std-Pl.csv')"
   ]
  }
 ],
 "metadata": {
  "kernelspec": {
   "display_name": "Python 3 (ipykernel)",
   "language": "python",
   "name": "python3"
  },
  "language_info": {
   "codemirror_mode": {
    "name": "ipython",
    "version": 3
   },
   "file_extension": ".py",
   "mimetype": "text/x-python",
   "name": "python",
   "nbconvert_exporter": "python",
   "pygments_lexer": "ipython3",
   "version": "3.9.12"
  }
 },
 "nbformat": 4,
 "nbformat_minor": 5
}

{
 "cells": [
  {
   "cell_type": "code",
   "execution_count": 1,
   "id": "5e6aa371",
   "metadata": {},
   "outputs": [],
   "source": [
    "import hes1_langevin_Antoine as langevin\n",
    "import hes1_master_Antoine as master\n",
    "import hes1_utils_Antoine as utils\n",
    "import hes1_utils_general as general\n",
    "import jochen_utils as jutils\n",
    "\n",
    "import matplotlib.pyplot as plt\n",
    "import numpy as np\n",
    "import math\n",
    "import pandas as pd\n",
    "import scipy.interpolate as spinter\n",
    "import scipy.fft\n",
    "import time\n",
    "import datetime as dt\n",
    "import os\n",
    "from scipy.stats import norm\n",
    "from scipy.stats import chi2\n",
    "from scipy.stats import kurtosis\n",
    "from scipy.stats import skew\n",
    "from scipy.stats import wasserstein_distance\n",
    "from numba import jit\n",
    "from scipy.special import rel_entr\n",
    "\n",
    "\n",
    "import warnings\n",
    "warnings.filterwarnings(\"ignore\")"
   ]
  },
  {
   "cell_type": "code",
   "execution_count": 2,
   "id": "b7fafae8",
   "metadata": {},
   "outputs": [],
   "source": [
    "ratio=(1+np.sqrt(5))/2"
   ]
  },
  {
   "cell_type": "code",
   "execution_count": null,
   "id": "6923cd94",
   "metadata": {},
   "outputs": [],
   "source": [
    "date_and_time=time.localtime()\n",
    "string_date=str(date_and_time.tm_year)+'-'+str(date_and_time.tm_mon)+'-'+str(date_and_time.tm_mday)+'-'+str(date_and_time.tm_hour)+'-'+str(date_and_time.tm_min)+'-'+str(date_and_time.tm_sec)"
   ]
  },
  {
   "cell_type": "code",
   "execution_count": null,
   "id": "28f44b12",
   "metadata": {},
   "outputs": [],
   "source": [
    "os.makedirs(os.getcwd() + '\\\\paper plots ' + string_date)\n",
    "\n",
    "read_directory = os.getcwd() + '\\\\paper plots ' + string_date        #specify here the folder you want to use\n",
    "\n",
    "try:\n",
    "    os.makedirs(read_directory+'\\\\data1')\n",
    "    os.makedirs(read_directory+'\\\\data2')\n",
    "    os.makedirs(read_directory+'\\\\plots')\n",
    "except FileExistsError:\n",
    "    pass\n"
   ]
  },
  {
   "cell_type": "code",
   "execution_count": 3,
   "id": "af3e8cee",
   "metadata": {},
   "outputs": [],
   "source": [
    "font = {\n",
    "    'family' : 'Arial',\n",
    "    'color'  : 'black',\n",
    "    'weight' : 'normal',\n",
    "    'size'   : 10,\n",
    "}"
   ]
  },
  {
   "cell_type": "markdown",
   "id": "ff5ffe84",
   "metadata": {},
   "source": [
    "# Influence of the swtiching noise on the full model (time series)"
   ]
  },
  {
   "cell_type": "markdown",
   "id": "22052a42",
   "metadata": {},
   "source": [
    "We plot timeseries of the full model (standard Gillespie algorithm) and of the full model using average switching noise (Gillespie algorithm where the environment switching is replaced by the Hill function).\n",
    "Functions are defined in the file \"master\"."
   ]
  },
  {
   "cell_type": "markdown",
   "id": "a413860d",
   "metadata": {},
   "source": [
    "## 1) First set of parameters (_PARAM1_)"
   ]
  },
  {
   "cell_type": "markdown",
   "id": "3994da7f",
   "metadata": {},
   "source": [
    "First we use the following set of parameter values, referred to as _PARAM1_:"
   ]
  },
  {
   "cell_type": "code",
   "execution_count": 16,
   "id": "f7302383",
   "metadata": {},
   "outputs": [],
   "source": [
    "alpha_m=1\n",
    "alpha_p=1\n",
    "mu_m=0.03\n",
    "mu_p=0.03\n",
    "h=4.1\n",
    "P_0=10\n",
    "\n",
    "T=10000\n",
    "delta_t=0.001\n",
    "\n",
    "n_t=int(T/delta_t)\n",
    "\n",
    "val_lambda=0.1\n",
    "val_Omega=10000\n",
    "val_tau=19.7"
   ]
  },
  {
   "cell_type": "code",
   "execution_count": 17,
   "id": "897d49aa",
   "metadata": {},
   "outputs": [
    {
     "data": {
      "text/plain": [
       "130.77281594276428"
      ]
     },
     "execution_count": 17,
     "metadata": {},
     "output_type": "execute_result"
    }
   ],
   "source": [
    "t0=time.time()\n",
    "\n",
    "time_trajm,mRNA_trajm,Hes1_trajm = master.one_trajectory(alpha_m=alpha_m,alpha_p=alpha_p,mu_m=mu_m,mu_p=mu_p,h=h,P_0=P_0,\n",
    "                                                      lambda_s=val_lambda,        \n",
    "                                                      tau=val_tau,\n",
    "                                                      P_init=0,\n",
    "                                                      M_init=0,\n",
    "                                                      T=T,\n",
    "                                                      Omega=val_Omega)\n",
    "\n",
    "time.time()-t0"
   ]
  },
  {
   "cell_type": "code",
   "execution_count": 14,
   "id": "40239617",
   "metadata": {},
   "outputs": [],
   "source": [
    "time_trajmns,mRNA_trajmns,Hes1_trajmns = master.one_trajectory_noSwitchNoise(alpha_m=alpha_m,alpha_p=alpha_p,mu_m=mu_m,\n",
    "                                                      mu_p=mu_p,\n",
    "                                                      h=h,\n",
    "                                                      P_0=P_0,\n",
    "                                                      tau=val_tau,\n",
    "                                                      P_init=0,\n",
    "                                                      M_init=0,\n",
    "                                                      T=T,\n",
    "                                                      Omega=val_Omega) "
   ]
  },
  {
   "cell_type": "code",
   "execution_count": null,
   "id": "5370aca2",
   "metadata": {},
   "outputs": [],
   "source": [
    "t_ref = np.linspace(0,T,T)\n",
    "mRNA_trajm_toPlot=spinter.interp1d(time_trajm,mRNA_trajm,kind=\"zero\")(t_ref)\n",
    "Hes1_trajm_toPlot=spinter.interp1d(time_trajm,Hes1_trajm,kind=\"zero\")(t_ref)\n",
    "mRNA_trajmns_toPlot=spinter.interp1d(time_trajmns,mRNA_trajmns,kind=\"zero\")(t_ref)\n",
    "Hes1_trajmns_toPlot=spinter.interp1d(time_trajmns,Hes1_trajmns,kind=\"zero\")(t_ref)"
   ]
  },
  {
   "cell_type": "code",
   "execution_count": 18,
   "id": "ec0b169e",
   "metadata": {
    "scrolled": false
   },
   "outputs": [
    {
     "ename": "NameError",
     "evalue": "name 'read_directory' is not defined",
     "output_type": "error",
     "traceback": [
      "\u001b[1;31m---------------------------------------------------------------------------\u001b[0m",
      "\u001b[1;31mNameError\u001b[0m                                 Traceback (most recent call last)",
      "Input \u001b[1;32mIn [18]\u001b[0m, in \u001b[0;36m<cell line: 25>\u001b[1;34m()\u001b[0m\n\u001b[0;32m     21\u001b[0m linemns, \u001b[38;5;241m=\u001b[39m ax[\u001b[38;5;241m1\u001b[39m]\u001b[38;5;241m.\u001b[39mplot(time_trajmns,Hes1_trajmns, color \u001b[38;5;241m=\u001b[39m \u001b[38;5;124m'\u001b[39m\u001b[38;5;124morange\u001b[39m\u001b[38;5;124m'\u001b[39m)\n\u001b[0;32m     23\u001b[0m ax[\u001b[38;5;241m1\u001b[39m]\u001b[38;5;241m.\u001b[39mlegend([linemns], [\u001b[38;5;124m'\u001b[39m\u001b[38;5;124mFull model with average switching rate\u001b[39m\u001b[38;5;124m'\u001b[39m], loc\u001b[38;5;241m=\u001b[39m\u001b[38;5;124m'\u001b[39m\u001b[38;5;124mupper right\u001b[39m\u001b[38;5;124m'\u001b[39m)\n\u001b[1;32m---> 25\u001b[0m plt\u001b[38;5;241m.\u001b[39msavefig(\u001b[43mread_directory\u001b[49m\u001b[38;5;241m+\u001b[39m\u001b[38;5;124m'\u001b[39m\u001b[38;5;130;01m\\\\\u001b[39;00m\u001b[38;5;124mplots\u001b[39m\u001b[38;5;130;01m\\\\\u001b[39;00m\u001b[38;5;124mtrajP - comparison full with vs without switching - param1.pdf\u001b[39m\u001b[38;5;124m'\u001b[39m)\n\u001b[0;32m     27\u001b[0m plt\u001b[38;5;241m.\u001b[39mshow()\n",
      "\u001b[1;31mNameError\u001b[0m: name 'read_directory' is not defined"
     ]
    },
    {
     "data": {
      "image/png": "[encoded data removed]",
      "text/plain": [
       "<Figure size 809.017x500 with 2 Axes>"
      ]
     },
     "metadata": {},
     "output_type": "display_data"
    }
   ],
   "source": [
    "fig,ax=plt.subplots(2,1, figsize=(5*ratio,5))\n",
    "    \n",
    "ax[0].set_title('Hes1 concentration over time',fontdict=font) \n",
    "ax[0].set_xlabel('time',fontdict=font) \n",
    "ax[0].set_ylabel('Hes1 concentration',fontdict=font) \n",
    "\n",
    "#ax[0].set_ylim(10,150)\n",
    "#ax[0].set_xlim(5000,10000)\n",
    "    \n",
    "linem, = ax[0].plot(time_trajm,Hes1_trajm, color = 'blue')\n",
    "    \n",
    "ax[0].legend([linem], ['Full model'],loc='upper right')\n",
    "\n",
    "\n",
    "ax[1].set_xlabel('time',fontdict=font) \n",
    "ax[1].set_ylabel('Hes1 concentration',fontdict=font)\n",
    "\n",
    "#ax[1].set_ylim(10,150)\n",
    "#ax[1].set_xlim(5000,10000)\n",
    "\n",
    "linemns, = ax[1].plot(time_trajmns,Hes1_trajmns, color = 'orange')\n",
    "\n",
    "ax[1].legend([linemns], ['Full model with average switching rate'], loc='upper right')\n",
    "\n",
    "plt.savefig(read_directory+'\\\\plots\\\\trajP - comparison full with vs without switching - param1.pdf')\n",
    "    \n",
    "plt.show()"
   ]
  },
  {
   "cell_type": "code",
   "execution_count": null,
   "id": "b2ac2ffc",
   "metadata": {},
   "outputs": [],
   "source": [
    "fig,ax=plt.subplots(2,1, figsize=(5*ratio,5))\n",
    "    \n",
    "ax[0].set_title('mRNA concentration over time',fontdict=font) \n",
    "ax[0].set_xlabel('time',fontdict=font) \n",
    "ax[0].set_ylabel('mRNA concentration',fontdict=font) \n",
    "\n",
    "ax[0].set_ylim(0,5)\n",
    "ax[0].set_xlim(5000,10000)\n",
    "    \n",
    "linem, = ax[0].plot(t_ref,mRNA_trajm_toPlot, color = 'blue')\n",
    "    \n",
    "ax[0].legend([linem], ['Full model'],loc='upper right')\n",
    "\n",
    "\n",
    "ax[1].set_xlabel('time',fontdict=font) \n",
    "ax[1].set_ylabel('mRNA concentration',fontdict=font)\n",
    "\n",
    "ax[1].set_ylim(0,5)\n",
    "ax[1].set_xlim(5000,10000)\n",
    "\n",
    "linemns, = ax[1].plot(t_ref,mRNA_trajmns_toPlot, color = 'orange')\n",
    "\n",
    "ax[1].legend([linemns], ['Full model with average switching rate'], loc='upper right')\n",
    "    \n",
    "plt.show()"
   ]
  },
  {
   "cell_type": "markdown",
   "id": "206da83e",
   "metadata": {},
   "source": [
    "## 2) Second set of values (_PARAM2_)"
   ]
  },
  {
   "cell_type": "markdown",
   "id": "068efbfd",
   "metadata": {},
   "source": [
    "Next we use the set of values proposed in _Quantitative single-cell live imaging links HES5 dynamics with cell-state and fate in murine neurogenesis_ (Cerys S. Manning, Veronica Biga, James Boyd, Jochen Kursawe, Bodvar Ymisson, David G. Spiller, Christopher M. Sanderson, Tobias Galla, Magnus Rattray, Nancy Papalopulu), figure 6. These values are referred to as _PARAM2_."
   ]
  },
  {
   "cell_type": "code",
   "execution_count": null,
   "id": "21ea5e05",
   "metadata": {},
   "outputs": [],
   "source": [
    "alpha_m=39.93\n",
    "alpha_p=21.56\n",
    "mu_m=0.033\n",
    "mu_p=0.011\n",
    "h=4.78\n",
    "P_0=24201.01\n",
    "\n",
    "T=1000\n",
    "delta_t=0.001\n",
    "\n",
    "n_t=int(T/delta_t)\n",
    "\n",
    "val_lambda=0.1\n",
    "val_Omega=1\n",
    "val_tau=34"
   ]
  },
  {
   "cell_type": "code",
   "execution_count": null,
   "id": "40be55a7",
   "metadata": {},
   "outputs": [],
   "source": [
    "time_trajm,mRNA_trajm,Hes1_trajm = master.one_trajectory(alpha_m=alpha_m,alpha_p=alpha_p,mu_m=mu_m,mu_p=mu_p,h=h,P_0=P_0,\n",
    "                                                      lambda_s=val_lambda,        \n",
    "                                                      tau=val_tau,\n",
    "                                                      P_init=0,\n",
    "                                                      M_init=0,\n",
    "                                                      T=T,\n",
    "                                                      Omega=val_Omega)\n",
    "\n",
    "time_trajmns,mRNA_trajmns,Hes1_trajmns = master.one_trajectory_noSwitchNoise(alpha_m=alpha_m,alpha_p=alpha_p,mu_m=mu_m,\n",
    "                                                      mu_p=mu_p,\n",
    "                                                      h=h,\n",
    "                                                      P_0=P_0,\n",
    "                                                      tau=val_tau,\n",
    "                                                      P_init=0,\n",
    "                                                      M_init=0,\n",
    "                                                      T=T,\n",
    "                                                      Omega=val_Omega)\n"
   ]
  },
  {
   "cell_type": "code",
   "execution_count": null,
   "id": "1f2f8d92",
   "metadata": {},
   "outputs": [],
   "source": [
    "t_ref = np.linspace(0,T,T)\n",
    "mRNA_trajm_toPlot=spinter.interp1d(time_trajm,mRNA_trajm,kind=\"zero\")(t_ref)\n",
    "Hes1_trajm_toPlot=spinter.interp1d(time_trajm,Hes1_trajm,kind=\"zero\")(t_ref)\n",
    "mRNA_trajmns_toPlot=spinter.interp1d(time_trajmns,mRNA_trajmns,kind=\"zero\")(t_ref)\n",
    "Hes1_trajmns_toPlot=spinter.interp1d(time_trajmns,Hes1_trajmns,kind=\"zero\")(t_ref)"
   ]
  },
  {
   "cell_type": "code",
   "execution_count": null,
   "id": "6cf3d754",
   "metadata": {},
   "outputs": [],
   "source": [
    "fig,ax=plt.subplots(2,1, figsize=(5*ratio,5))\n",
    "    \n",
    "ax[0].set_title('Hes1 concentration over time',fontdict=font) \n",
    "ax[0].set_xlabel('time',fontdict=font) \n",
    "ax[0].set_ylabel('Hes1 concentration',fontdict=font) \n",
    "\n",
    "ax[0].set_ylim(25000,250000)\n",
    "ax[0].set_xlim(5000,10000)\n",
    "    \n",
    "linem, = ax[0].plot(t_ref,Hes1_trajm_toPlot, color = 'blue')\n",
    "    \n",
    "ax[0].legend([linem], ['Full model'],loc='upper right')\n",
    "\n",
    "\n",
    "ax[1].set_xlabel('time',fontdict=font) \n",
    "ax[1].set_ylabel('Hes1 concentration',fontdict=font)\n",
    "\n",
    "ax[1].set_ylim(25000,250000)\n",
    "ax[1].set_xlim(5000,10000)\n",
    "\n",
    "linemns, = ax[1].plot(t_ref,Hes1_trajmns_toPlot, color = 'orange')\n",
    "\n",
    "ax[1].legend([linemns], ['Full model with average switching rate'], loc='upper right')\n",
    "\n",
    "plt.savefig(read_directory+'\\\\plots\\\\trajP - comparison full with vs without switching - param2.pdf')\n",
    "    \n",
    "plt.show()"
   ]
  },
  {
   "cell_type": "code",
   "execution_count": null,
   "id": "4de7431a",
   "metadata": {},
   "outputs": [],
   "source": [
    "fig,ax=plt.subplots(2,1, figsize=(5*ratio,5))\n",
    "    \n",
    "ax[0].set_title('mRNA concentration over time',fontdict=font) \n",
    "ax[0].set_xlabel('time',fontdict=font) \n",
    "ax[0].set_ylabel('mRNA concentration',fontdict=font) \n",
    "\n",
    "ax[0].set_ylim(0,200)\n",
    "ax[0].set_xlim(5000,10000)\n",
    "    \n",
    "linem, = ax[0].plot(t_ref,mRNA_trajm_toPlot, color = 'blue')\n",
    "    \n",
    "ax[0].legend([linem], ['Full model'],loc='upper right')\n",
    "\n",
    "\n",
    "ax[1].set_xlabel('time',fontdict=font) \n",
    "ax[1].set_ylabel('mRNA concentration',fontdict=font)\n",
    "\n",
    "ax[1].set_ylim(0,200)\n",
    "ax[1].set_xlim(5000,10000)\n",
    "\n",
    "linemns, = ax[1].plot(t_ref,mRNA_trajmns_toPlot, color = 'orange')\n",
    "\n",
    "ax[1].legend([linemns], ['Full model with average switching rate'], loc='upper right')\n",
    "    \n",
    "plt.show()"
   ]
  },
  {
   "cell_type": "markdown",
   "id": "e7fa5bd8",
   "metadata": {},
   "source": [
    "# Comparison Langevin VS full model"
   ]
  },
  {
   "cell_type": "markdown",
   "id": "b1423a36",
   "metadata": {},
   "source": [
    "We plot timeseries of the full model (standard Gillespie algorithm) and of the Langevin model i.e using SPDEs.\n",
    "Functions are defined in the files \"master\" and \"langevin\"."
   ]
  },
  {
   "cell_type": "markdown",
   "id": "d7d1ef61",
   "metadata": {},
   "source": [
    "## Time series for _PARAM1_"
   ]
  },
  {
   "cell_type": "code",
   "execution_count": null,
   "id": "09019bc0",
   "metadata": {},
   "outputs": [],
   "source": [
    "alpha_m=1\n",
    "alpha_p=1\n",
    "mu_m=0.03\n",
    "mu_p=0.03\n",
    "h=4.1\n",
    "P_0=10\n",
    "\n",
    "T=1000\n",
    "delta_t=0.001\n",
    "\n",
    "n_t=int(T/delta_t)\n",
    "\n",
    "val_lambda=0.1\n",
    "val_Omega=1\n",
    "val_tau=19.7"
   ]
  },
  {
   "cell_type": "code",
   "execution_count": null,
   "id": "4382d6b4",
   "metadata": {},
   "outputs": [],
   "source": [
    "m_stat,p_stat = utils.resolve_stationary_state(alpha_m,mu_m,alpha_p,mu_p,h,P_0)"
   ]
  },
  {
   "cell_type": "code",
   "execution_count": null,
   "id": "740f551f",
   "metadata": {},
   "outputs": [],
   "source": [
    "time_trajm,mRNA_trajm,Hes1_trajm = master.one_trajectory(alpha_m=alpha_m,alpha_p=alpha_p,mu_m=mu_m,\n",
    "                                                      mu_p=mu_p,\n",
    "                                                      h=h,\n",
    "                                                      P_0=P_0,\n",
    "                                                      lambda_s=val_lambda,\n",
    "                                                      tau=val_tau,\n",
    "                                                      P_init=0,\n",
    "                                                      M_init=0,\n",
    "                                                      T=T,\n",
    "                                                      Omega=val_Omega)\n",
    "        \n",
    "time_trajl,mRNA_trajl,Hes1_trajl = langevin.one_trajectory(alpha_m=alpha_m,alpha_p=alpha_p,mu_m=mu_m,\n",
    "                                                      mu_p=mu_p,\n",
    "                                                      h=h,\n",
    "                                                      P_0=P_0,\n",
    "                                                      lambda_s=val_lambda,\n",
    "                                                      tau=val_tau,\n",
    "                                                      P_init=0,\n",
    "                                                      M_init=0,\n",
    "                                                      T=T,\n",
    "                                                      delta_t=delta_t,\n",
    "                                                      Omega=val_Omega)\n",
    "\n",
    "time_trajlna,mRNA_trajlna,Hes1_trajlna = langevin.one_trajectory_LNA(alpha_m=alpha_m,alpha_p=alpha_p,mu_m=mu_m,\n",
    "                                                      mu_p=mu_p,\n",
    "                                                      h=h,\n",
    "                                                      P_0=P_0,\n",
    "                                                      lambda_s=val_lambda,\n",
    "                                                      tau=val_tau,\n",
    "                                                      T=T,\n",
    "                                                      delta_t=delta_t,\n",
    "                                                      Omega=val_Omega)"
   ]
  },
  {
   "cell_type": "code",
   "execution_count": null,
   "id": "9cb13ca8",
   "metadata": {},
   "outputs": [],
   "source": [
    "t_ref = np.linspace(0,T,T)\n",
    "mRNA_trajm_toPlot=spinter.interp1d(time_trajm,mRNA_trajm,kind=\"zero\")(t_ref)\n",
    "Hes1_trajm_toPlot=spinter.interp1d(time_trajm,Hes1_trajm,kind=\"zero\")(t_ref)"
   ]
  },
  {
   "cell_type": "code",
   "execution_count": null,
   "id": "f97d0120",
   "metadata": {
    "scrolled": false
   },
   "outputs": [],
   "source": [
    "fig,ax=plt.subplots(3,1,figsize=(5*ratio,5))\n",
    "    \n",
    "ax[0].set_title('Hes1 concentration over time',fontdict=font) \n",
    "ax[0].set_ylabel('Hes1 concentration',fontdict=font) \n",
    "\n",
    "#ax[0].set_ylim(15,35)\n",
    "#ax[0].set_xlim(5000,10000)\n",
    "    \n",
    "linem,=ax[0].plot(time_trajm,Hes1_trajm, color = 'blue')\n",
    "ax[0].legend([linem], ['Full model'], loc='upper right')\n",
    "\n",
    "\n",
    "\n",
    "ax[1].set_ylabel('Hes1 concentration',fontdict=font)\n",
    "\n",
    "#ax[1].set_ylim(15,35)\n",
    "#ax[1].set_xlim(5000,10000)\n",
    "    \n",
    "linel,=ax[1].plot(time_trajl,Hes1_trajl, color = 'green')\n",
    "ax[1].legend([linel], ['Langevin model'], loc='upper right')\n",
    "\n",
    "\n",
    "\n",
    "ax[2].set_xlabel('time',fontdict=font) \n",
    "ax[2].set_ylabel('Hes1 concentration',fontdict=font)\n",
    "\n",
    "#ax[2].set_ylim(15,35)\n",
    "#ax[2].set_xlim(5000,10000)\n",
    "    \n",
    "linelna,=ax[2].plot(time_trajlna,Hes1_trajlna, color = 'red')\n",
    "ax[2].legend([linelna], ['LNA model'], loc='upper right')\n",
    "\n",
    "\n",
    "\n",
    "plt.savefig(read_directory+'\\\\plots\\\\trajP - comparison Full vs Langevin - param1.pdf')\n",
    "plt.show()"
   ]
  },
  {
   "cell_type": "code",
   "execution_count": null,
   "id": "2969ab34",
   "metadata": {},
   "outputs": [],
   "source": [
    "fig,ax=plt.subplots(3,1,figsize=(5*ratio,5))\n",
    "    \n",
    "ax[0].set_title('Hes1 concentration over time',fontdict=font) \n",
    "ax[0].set_ylabel('Hes1 concentration',fontdict=font) \n",
    "\n",
    "ax[0].set_ylim(0,1)\n",
    "ax[0].set_xlim(5000,10000)\n",
    "    \n",
    "linem,=ax[0].plot(t_ref,mRNA_trajm_toPlot, color = 'blue')\n",
    "ax[0].legend([linem], ['Full model'], loc='upper right')\n",
    "\n",
    "\n",
    "\n",
    "ax[1].set_ylabel('Hes1 concentration',fontdict=font)\n",
    "\n",
    "ax[1].set_ylim(0,1)\n",
    "ax[1].set_xlim(5000,10000)\n",
    "    \n",
    "linel,=ax[1].plot(time_trajl,mRNA_trajl, color = 'green')\n",
    "ax[1].legend([linel], ['Langevin model'], loc='upper right')\n",
    "\n",
    "\n",
    "\n",
    "ax[2].set_xlabel('time',fontdict=font) \n",
    "ax[2].set_ylabel('Hes1 concentration',fontdict=font)\n",
    "\n",
    "ax[2].set_ylim(0,1)\n",
    "ax[2].set_xlim(5000,10000)\n",
    "    \n",
    "linelna,=ax[2].plot(time_trajlna,mRNA_trajlna, color = 'red')\n",
    "ax[2].legend([linelna], ['LNA model'], loc='upper right')\n"
   ]
  },
  {
   "cell_type": "markdown",
   "id": "882da93e",
   "metadata": {},
   "source": [
    "## Time series for _PARAM2_"
   ]
  },
  {
   "cell_type": "code",
   "execution_count": null,
   "id": "db743b41",
   "metadata": {},
   "outputs": [],
   "source": [
    "alpha_m=39.93\n",
    "alpha_p=21.56\n",
    "mu_m=0.033\n",
    "mu_p=0.011\n",
    "h=4.78\n",
    "P_0=24201.01\n",
    "\n",
    "T=10000\n",
    "delta_t=0.001\n",
    "\n",
    "n_t=int(T/delta_t)\n",
    "\n",
    "val_lambda=100\n",
    "val_Omega=10\n",
    "val_tau=34"
   ]
  },
  {
   "cell_type": "code",
   "execution_count": null,
   "id": "02e5cce9",
   "metadata": {},
   "outputs": [],
   "source": [
    "m_stat,p_stat = utils.resolve_stationary_state(alpha_m,mu_m,alpha_p,mu_p,h,P_0)"
   ]
  },
  {
   "cell_type": "code",
   "execution_count": null,
   "id": "0637e940",
   "metadata": {},
   "outputs": [],
   "source": [
    "time_trajm,mRNA_trajm,Hes1_trajm = master.one_trajectory(alpha_m=alpha_m,alpha_p=alpha_p,mu_m=mu_m,\n",
    "                                                      mu_p=mu_p,\n",
    "                                                      h=h,\n",
    "                                                      P_0=P_0,\n",
    "                                                      lambda_s=val_lambda,\n",
    "                                                      tau=val_tau,\n",
    "                                                      P_init=0,\n",
    "                                                      M_init=0,\n",
    "                                                      T=T,\n",
    "                                                      Omega=val_Omega)\n",
    "        \n",
    "time_trajl,mRNA_trajl,Hes1_trajl = langevin.one_trajectory(alpha_m=alpha_m,alpha_p=alpha_p,mu_m=mu_m,\n",
    "                                                      mu_p=mu_p,\n",
    "                                                      h=h,\n",
    "                                                      P_0=P_0,\n",
    "                                                      lambda_s=val_lambda,\n",
    "                                                      tau=val_tau,\n",
    "                                                      P_init=0,\n",
    "                                                      M_init=0,\n",
    "                                                      T=T,\n",
    "                                                      delta_t=delta_t,\n",
    "                                                      Omega=val_Omega)\n",
    "\n",
    "time_trajlna,mRNA_trajlna,Hes1_trajlna = langevin.one_trajectory_LNA(alpha_m=alpha_m,alpha_p=alpha_p,mu_m=mu_m,\n",
    "                                                      mu_p=mu_p,\n",
    "                                                      h=h,\n",
    "                                                      P_0=P_0,\n",
    "                                                      lambda_s=val_lambda,\n",
    "                                                      tau=val_tau,\n",
    "                                                      T=T,\n",
    "                                                      delta_t=delta_t,\n",
    "                                                      Omega=val_Omega)"
   ]
  },
  {
   "cell_type": "code",
   "execution_count": null,
   "id": "c293d491",
   "metadata": {},
   "outputs": [],
   "source": [
    "t_ref = np.linspace(0,T,T)\n",
    "mRNA_trajm_toPlot=spinter.interp1d(time_trajm,mRNA_trajm,kind=\"zero\")(t_ref)\n",
    "Hes1_trajm_toPlot=spinter.interp1d(time_trajm,Hes1_trajm,kind=\"zero\")(t_ref)"
   ]
  },
  {
   "cell_type": "code",
   "execution_count": null,
   "id": "f5068a81",
   "metadata": {},
   "outputs": [],
   "source": [
    "fig,ax=plt.subplots(3,1,figsize=(5*ratio,5))\n",
    "    \n",
    "ax[0].set_title('Hes1 concentration over time') \n",
    "ax[0].set_ylabel('Hes1 concentration') \n",
    "\n",
    "ax[0].set_ylim(40000,80000)\n",
    "ax[0].set_xlim(5000,10000)\n",
    "    \n",
    "linem,=ax[0].plot(t_ref,Hes1_trajm_toPlot, color = 'blue')\n",
    "ax[0].legend([linem], ['Full model'], loc='upper right')\n",
    "    \n",
    "\n",
    "\n",
    "ax[1].set_ylabel('Hes1 concentration')\n",
    "\n",
    "ax[1].set_ylim(40000,80000)\n",
    "ax[1].set_xlim(5000,10000)\n",
    "    \n",
    "linel,=ax[1].plot(time_trajl,Hes1_trajl, color = 'green')\n",
    "ax[1].legend([linel], ['Langevin model'], loc='upper right')\n",
    "\n",
    "\n",
    "\n",
    "ax[2].set_xlabel('time') \n",
    "ax[2].set_ylabel('Hes1 concentration')\n",
    "\n",
    "#ax[2].set_ylim(40000,70000)\n",
    "ax[2].set_xlim(5000,10000)\n",
    "    \n",
    "linelna,=ax[2].plot(time_trajlna,Hes1_trajlna, color = 'red')\n",
    "ax[2].legend([linelna], ['LNA model'], loc='upper right')\n",
    "\n",
    "plt.savefig(read_directory+'\\\\plots\\\\trajP - comparison Full vs Langevin - param2.pdf')\n",
    "plt.show()"
   ]
  },
  {
   "cell_type": "markdown",
   "id": "a7b4271d",
   "metadata": {},
   "source": [
    "For this set of parameters, we observe that the deterministic solution is already oscillating. This is coherent with the results of _Wu, X. P., Eshete, M. (2011). Bifurcation analysis for a model of gene expression with delays.\n",
    "Communications in Nonlinear Science and Numerical Simulation, 16(2), 1073–1088_:\n",
    "if $M^*$ and $P^*$ are the constant stationary solution, then define\n",
    "$$\\omega_0^2 = \\alpha_m \\alpha_p |f'(P^*)| - \\mu_m \\mu_p,$$\n",
    "and\n",
    "$$a = \\frac{-\\omega_0^2 + \\mu_m \\mu_p}{\\alpha_m \\alpha_p f'(P^*)},$$\n",
    "with $$ \\frac{h}{P_0}\\frac{(\\frac{P^*}{P_0})^{h-1}}{(1+(\\frac{P^*}{P_0})^h)^2}.$$"
   ]
  },
  {
   "cell_type": "code",
   "execution_count": null,
   "id": "72d9e777",
   "metadata": {},
   "outputs": [],
   "source": [
    "m_stat,p_stat = utils.resolve_stationary_state(alpha_m,mu_m,alpha_p,mu_p,h,P_0)\n",
    "w_0=np.sqrt(alpha_m *alpha_p*abs(h/P_0*(p_stat/P_0)**(h-1)/(1+(p_stat/P_0)**h)**2) - mu_m*mu_p)\n",
    "aaa = (-w_0**2 + mu_m*mu_p)/(alpha_m *alpha_p*(-h/P_0*(p_stat/P_0)**(h-1)/(1+(p_stat/P_0)**h)**2))"
   ]
  },
  {
   "cell_type": "markdown",
   "id": "63c1503e",
   "metadata": {},
   "source": [
    "Then, denote the increasing sequence $\\tau_j$,\n",
    "$$\\tau_j = \\frac{1}{\\omega_0}(arccos(a)+2\\pi j),$$\n",
    "so that if $\\tau_j \\leq \\tau \\leq \\tau_{j+1}$, there is at least $j+1$ oscillating solutions to the problem."
   ]
  },
  {
   "cell_type": "code",
   "execution_count": null,
   "id": "32cb6372",
   "metadata": {
    "scrolled": true
   },
   "outputs": [],
   "source": [
    "tau_0 = np.arccos(aaa)/w_0\n",
    "tau_1 = (np.arccos(aaa) + 2*np.pi)/w_0\n",
    "\n",
    "tau_0,tau_1"
   ]
  },
  {
   "cell_type": "markdown",
   "id": "27a603d4",
   "metadata": {},
   "source": [
    "As $\\tau = 34 > 26.35$, there is an oscillating solution to the problem. Therefore, we compare our approach to the system given by choosing a value of delay right before the bifurcation $\\tau_0 \\approx 26.35$: we choose $\\tau = 25$."
   ]
  },
  {
   "cell_type": "code",
   "execution_count": null,
   "id": "498914ad",
   "metadata": {},
   "outputs": [],
   "source": [
    "val_tau=25\n",
    "\n",
    "time_trajm,mRNA_trajm,Hes1_trajm = master.one_trajectory(alpha_m=alpha_m,alpha_p=alpha_p,mu_m=mu_m,\n",
    "                                                      mu_p=mu_p,\n",
    "                                                      h=h,\n",
    "                                                      P_0=P_0,\n",
    "                                                      lambda_s=val_lambda,\n",
    "                                                      tau=val_tau,\n",
    "                                                      P_init=0,\n",
    "                                                      M_init=0,\n",
    "                                                      T=T,\n",
    "                                                      Omega=val_Omega)\n",
    "        \n",
    "time_trajl,mRNA_trajl,Hes1_trajl = langevin.one_trajectory(alpha_m=alpha_m,alpha_p=alpha_p,mu_m=mu_m,\n",
    "                                                      mu_p=mu_p,\n",
    "                                                      h=h,\n",
    "                                                      P_0=P_0,\n",
    "                                                      lambda_s=val_lambda,\n",
    "                                                      tau=val_tau,\n",
    "                                                      P_init=0,\n",
    "                                                      M_init=0,\n",
    "                                                      T=T,\n",
    "                                                      delta_t=delta_t,\n",
    "                                                      Omega=val_Omega)\n",
    "\n",
    "time_trajlna,mRNA_trajlna,Hes1_trajlna = langevin.one_trajectory_LNA(alpha_m=alpha_m,alpha_p=alpha_p,mu_m=mu_m,\n",
    "                                                      mu_p=mu_p,\n",
    "                                                      h=h,\n",
    "                                                      P_0=P_0,\n",
    "                                                      lambda_s=val_lambda,\n",
    "                                                      tau=val_tau,\n",
    "                                                      T=T,\n",
    "                                                      delta_t=delta_t,\n",
    "                                                      Omega=val_Omega)"
   ]
  },
  {
   "cell_type": "code",
   "execution_count": null,
   "id": "6370da84",
   "metadata": {},
   "outputs": [],
   "source": [
    "t_ref = np.linspace(0,T,T)\n",
    "mRNA_trajm_toPlot=spinter.interp1d(time_trajm,mRNA_trajm,kind=\"zero\")(t_ref)\n",
    "Hes1_trajm_toPlot=spinter.interp1d(time_trajm,Hes1_trajm,kind=\"zero\")(t_ref)"
   ]
  },
  {
   "cell_type": "code",
   "execution_count": null,
   "id": "7e803ba3",
   "metadata": {},
   "outputs": [],
   "source": [
    "fig,ax=plt.subplots(3,1,figsize=(5*ratio,5))\n",
    "    \n",
    "ax[0].set_title('Hes1 concentration over time',fontdict=font) \n",
    "ax[0].set_ylabel('Hes1 concentration',fontdict=font) \n",
    "\n",
    "ax[0].set_ylim(45000,65000)\n",
    "ax[0].set_xlim(5000,10000)\n",
    "    \n",
    "linem,=ax[0].plot(t_ref,Hes1_trajm_toPlot, color = 'blue')\n",
    "ax[0].legend([linem], ['Full model'], loc='upper right')\n",
    "    \n",
    "\n",
    "\n",
    "ax[1].set_ylabel('Hes1 concentration',fontdict=font)\n",
    "\n",
    "ax[1].set_ylim(45000,65000)\n",
    "ax[1].set_xlim(5000,10000)\n",
    "    \n",
    "linel,=ax[1].plot(time_trajl,Hes1_trajl, color = 'green')\n",
    "ax[1].legend([linel], ['Langevin model'], loc='upper right')\n",
    "\n",
    "\n",
    "\n",
    "ax[2].set_xlabel('time',fontdict=font) \n",
    "ax[2].set_ylabel('Hes1 concentration',fontdict=font)\n",
    "\n",
    "ax[2].set_ylim(45000,65000)\n",
    "ax[2].set_xlim(5000,10000)\n",
    "    \n",
    "linelna,=ax[2].plot(time_trajlna,Hes1_trajlna, color = 'red')\n",
    "ax[2].legend([linelna], ['LNA model'], loc='upper right')\n",
    "\n",
    "plt.savefig(read_directory+'\\\\plots\\\\trajP - comparison Full vs Langevin - param2 - beforeBifurcation.pdf')\n",
    "plt.show()"
   ]
  }
 ],
 "metadata": {
  "kernelspec": {
   "display_name": "Python 3 (ipykernel)",
   "language": "python",
   "name": "python3"
  },
  "language_info": {
   "codemirror_mode": {
    "name": "ipython",
    "version": 3
   },
   "file_extension": ".py",
   "mimetype": "text/x-python",
   "name": "python",
   "nbconvert_exporter": "python",
   "pygments_lexer": "ipython3",
   "version": "3.9.12"
  }
 },
 "nbformat": 4,
 "nbformat_minor": 5
}

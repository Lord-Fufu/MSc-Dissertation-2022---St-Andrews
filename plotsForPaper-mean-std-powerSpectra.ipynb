{
 "cells": [
  {
   "cell_type": "code",
   "execution_count": 1,
   "id": "0b871770-c44b-4fb7-b10a-f70515588b8b",
   "metadata": {},
   "outputs": [],
   "source": [
    "import hes1_langevin_Antoine as langevin\n",
    "import hes1_master_Antoine as master\n",
    "import hes1_utils_Antoine as utils\n",
    "\n",
    "import hes1_utils_general as general\n",
    "import jochen_utils\n",
    "\n",
    "import matplotlib.pyplot as plt\n",
    "import numpy as np\n",
    "import pandas as pd\n",
    "import scipy.interpolate as spinter\n",
    "import scipy.fft\n",
    "import time\n",
    "import datetime as dt\n",
    "import os\n",
    "\n",
    "import time\n",
    "\n",
    "import warnings\n",
    "warnings.filterwarnings(\"ignore\")"
   ]
  },
  {
   "cell_type": "markdown",
   "id": "7b6d7ef7",
   "metadata": {},
   "source": [
    "# Simulation parameters"
   ]
  },
  {
   "cell_type": "code",
   "execution_count": 2,
   "id": "4e7ccefd",
   "metadata": {},
   "outputs": [],
   "source": [
    "param_number = 1"
   ]
  },
  {
   "cell_type": "code",
   "execution_count": 3,
   "id": "3fbca0d0",
   "metadata": {},
   "outputs": [],
   "source": [
    "if param_number==1:\n",
    "    alpha_m=1\n",
    "    alpha_p=1\n",
    "    mu_m=0.03\n",
    "    mu_p=0.03\n",
    "    h=4.1\n",
    "    P_0=10\n",
    "\n",
    "    T=10000\n",
    "    delta_t=0.01\n",
    "    \n",
    "    val_lambda=[10**x for x in np.arange(-2,2.1,0.2)]\n",
    "    val_Omega=[1,10,100,1000,5000,10000]\n",
    "    val_tau=[18.7]\n",
    "\n",
    "    n_lambda=np.size(val_lambda)\n",
    "    n_Omega=np.size(val_Omega)\n",
    "    n_tau=np.size(val_tau)\n",
    "\n",
    "elif param_number==2:\n",
    "    '''alpha_m=0.64\n",
    "    alpha_p=17.32\n",
    "    mu_m=np.log(2)/30\n",
    "    mu_p=np.log(2)/90\n",
    "    h=5.59\n",
    "    P_0=88288.6\n",
    "\n",
    "    T=10000\n",
    "    delta_t=0.01\n",
    "\n",
    "    val_lambda=[10**x for x in np.arange(-2,2.1,0.2)]\n",
    "    val_Omega=[0.001, 0.01, 0.1, 1]\n",
    "    val_tau=[34]\n",
    "\n",
    "    n_lambda=np.size(val_lambda)\n",
    "    n_Omega=np.size(val_Omega)\n",
    "    n_tau=np.size(val_tau)'''\n",
    "    \n",
    "    \n",
    "    alpha_m=39.93\n",
    "    alpha_p=21.56\n",
    "    mu_m=np.log(2)/30\n",
    "    mu_p=np.log(2)/90\n",
    "    h=4.78\n",
    "    P_0=24201.01\n",
    "\n",
    "    T=10000\n",
    "    delta_t=0.01\n",
    "\n",
    "    n_t=int(T/delta_t)\n",
    "\n",
    "    val_lambda=[10**x for x in np.arange(-2,2.1,0.2)]\n",
    "    val_Omega=[0.001, 0.01, 0.1, 1]\n",
    "    val_tau=[33]\n",
    "\n",
    "    n_lambda=np.size(val_lambda)\n",
    "    n_Omega=np.size(val_Omega)\n",
    "    n_tau=np.size(val_tau)\n",
    "else:\n",
    "    print('Parameters not supported.')"
   ]
  },
  {
   "cell_type": "markdown",
   "id": "1982cc6a",
   "metadata": {},
   "source": [
    "# Save & Plots parameters"
   ]
  },
  {
   "cell_type": "code",
   "execution_count": 4,
   "id": "69a6f136",
   "metadata": {},
   "outputs": [],
   "source": [
    "ratio=(1+np.sqrt(5))/2"
   ]
  },
  {
   "cell_type": "code",
   "execution_count": null,
   "id": "6224fcda",
   "metadata": {},
   "outputs": [],
   "source": [
    "date_and_time=time.localtime()\n",
    "string_date=str(date_and_time.tm_year)+'-'+str(date_and_time.tm_mon)+'-'+str(date_and_time.tm_mday)+'-'+str(date_and_time.tm_hour)+'-'+str(date_and_time.tm_min)+'-'+str(date_and_time.tm_sec)\n",
    "os.makedirs(os.getcwd() + '\\\\paper plots ' + string_date)"
   ]
  },
  {
   "cell_type": "code",
   "execution_count": null,
   "id": "f6293190",
   "metadata": {},
   "outputs": [],
   "source": [
    "read_directory = os.getcwd() + '\\\\paper plots ' + string_date        #specify here the folder you want to use\n",
    "#read_directory0 = '2023-12-10-15-25-10'\n",
    "os.makedirs(read_directory + '\\\\plots')"
   ]
  },
  {
   "cell_type": "code",
   "execution_count": 5,
   "id": "5eba8eb1",
   "metadata": {},
   "outputs": [],
   "source": [
    "font = {\n",
    "    'family' : 'Arial',\n",
    "    'color'  : 'black',\n",
    "    'weight' : 'normal',\n",
    "    'size'   : 10,\n",
    "}"
   ]
  },
  {
   "cell_type": "markdown",
   "id": "5dfa688f",
   "metadata": {},
   "source": [
    "# Plotting power spectrum"
   ]
  },
  {
   "cell_type": "code",
   "execution_count": 6,
   "id": "84ea933c",
   "metadata": {},
   "outputs": [],
   "source": [
    "n_iter=100\n",
    "\n",
    "T = 10000\n",
    "sampling_timestep = 10\n",
    "n_t=int(T/sampling_timestep)"
   ]
  },
  {
   "cell_type": "code",
   "execution_count": 7,
   "id": "6d6f1dc2",
   "metadata": {},
   "outputs": [
    {
     "name": "stdout",
     "output_type": "stream",
     "text": [
      "Value of lambda: 0.999999999999999\n",
      "Value of Omega: 5000\n",
      "Value of tau: 18.7\n"
     ]
    }
   ],
   "source": [
    "i=10\n",
    "j=-2\n",
    "k=0\n",
    "\n",
    "valueOfLambda = val_lambda[i]\n",
    "valueOfOmega = val_Omega[j]\n",
    "valueOfTau = val_tau[k]\n",
    "\n",
    "#lambda_s = 100\n",
    "#Omega = 1\n",
    "#tau = 19.7\n",
    "\n",
    "print(\"Value of lambda:\", valueOfLambda)\n",
    "print(\"Value of Omega:\", valueOfOmega)\n",
    "print(\"Value of tau:\", valueOfTau)"
   ]
  },
  {
   "cell_type": "code",
   "execution_count": 8,
   "id": "8d47af27",
   "metadata": {},
   "outputs": [
    {
     "name": "stdout",
     "output_type": "stream",
     "text": [
      "Computation time: 21.0 min  51.50561738014221 s\n"
     ]
    }
   ],
   "source": [
    "t0 = time.time()\n",
    "\n",
    "output=general.simulate_master_all(n_iter=n_iter,alpha_m=alpha_m,alpha_p=alpha_p,mu_m=mu_m,mu_p=mu_p,\n",
    "                                                                h=h,\n",
    "                                                                P_0=P_0,\n",
    "                                                                lambda_s=valueOfLambda,\n",
    "                                                                tau=valueOfTau,\n",
    "                                                                P_init=0,\n",
    "                                                                M_init=0,\n",
    "                                                                T=T,\n",
    "                                                                delta_t=delta_t,\n",
    "                                                                Omega=valueOfOmega,\n",
    "                                                                sampling_timestep = sampling_timestep)\n",
    "\n",
    "print(\"Computation time:\", (time.time() - t0)//60, \"min \", (time.time() - t0)%60, \"s\")\n",
    "\n",
    "\n",
    "t_ref=output[\"times\"]\n",
    "\n",
    "freq_ref=output[\"frequencies\"]\n",
    "\n",
    "\n",
    "std_Mm=output[\"std Mm\"]\n",
    "\n",
    "std_Pm=output[\"std Pm\"]\n",
    "\n",
    "mean_Mm=output[\"mean Mm\"]\n",
    "\n",
    "mean_Pm=output[\"mean Pm\"]\n",
    "\n",
    "power_spectrum_Mm=output[\"power spectrum Mm\"]\n",
    "          \n",
    "power_spectrum_Pm=output[\"power spectrum Pm\"]"
   ]
  },
  {
   "cell_type": "code",
   "execution_count": 9,
   "id": "74105ce7",
   "metadata": {},
   "outputs": [],
   "source": [
    "output=general.simulate_langevin_all(n_iter=n_iter,alpha_m=alpha_m,alpha_p=alpha_p,mu_m=mu_m,mu_p=mu_p,\n",
    "                                                                h=h,\n",
    "                                                                P_0=P_0,\n",
    "                                                                lambda_s=valueOfLambda,\n",
    "                                                                tau=valueOfTau,\n",
    "                                                                P_init=0,\n",
    "                                                                M_init=0,\n",
    "                                                                T=T,\n",
    "                                                                delta_t=delta_t,\n",
    "                                                                Omega=valueOfOmega,\n",
    "                                                                sampling_timestep = sampling_timestep)            \n",
    "            \n",
    "t_ref=output[\"times\"]\n",
    "\n",
    "freq_ref=output[\"frequencies\"]\n",
    "\n",
    "\n",
    "std_Ml=output[\"std Ml\"]\n",
    "\n",
    "std_Pl=output[\"std Pl\"]\n",
    "\n",
    "mean_Ml=output[\"mean Ml\"]\n",
    "\n",
    "mean_Pl=output[\"mean Pl\"]\n",
    "\n",
    "power_spectrum_Ml=output[\"power spectrum Ml\"]\n",
    "          \n",
    "power_spectrum_Pl=output[\"power spectrum Pl\"]"
   ]
  },
  {
   "cell_type": "code",
   "execution_count": 10,
   "id": "03bf2a5a-d5e5-4f5a-b555-9ee873742126",
   "metadata": {},
   "outputs": [],
   "source": [
    "output=general.simulate_lna_all(n_iter=n_iter,alpha_m=alpha_m,alpha_p=alpha_p,mu_m=mu_m,mu_p=mu_p,\n",
    "                                                                h=h,\n",
    "                                                                P_0=P_0,\n",
    "                                                                lambda_s=valueOfLambda,\n",
    "                                                                tau=valueOfTau,\n",
    "                                                                P_init=0,\n",
    "                                                                M_init=0,\n",
    "                                                                T=T,\n",
    "                                                                delta_t=delta_t,\n",
    "                                                                Omega=valueOfOmega,\n",
    "                                                                sampling_timestep = sampling_timestep)            \n",
    "            \n",
    "t_ref=output[\"times\"]\n",
    "\n",
    "freq_ref=output[\"frequencies\"]\n",
    "\n",
    "\n",
    "std_Mlna=output[\"std Mlna\"]\n",
    "\n",
    "std_Plna=output[\"std Plna\"]\n",
    "\n",
    "mean_Mlna=output[\"mean Mlna\"]\n",
    "\n",
    "mean_Plna=output[\"mean Plna\"]\n",
    "\n",
    "power_spectrum_Mlna=output[\"power spectrum Mlna\"]\n",
    "          \n",
    "power_spectrum_Plna=output[\"power spectrum Plna\"]"
   ]
  },
  {
   "cell_type": "code",
   "execution_count": 12,
   "id": "76b16c8f-4cf1-4681-80a3-86efb4c6b206",
   "metadata": {},
   "outputs": [
    {
     "ename": "NameError",
     "evalue": "name 'read_directory' is not defined",
     "output_type": "error",
     "traceback": [
      "\u001b[1;31m---------------------------------------------------------------------------\u001b[0m",
      "\u001b[1;31mNameError\u001b[0m                                 Traceback (most recent call last)",
      "Input \u001b[1;32mIn [12]\u001b[0m, in \u001b[0;36m<cell line: 34>\u001b[1;34m()\u001b[0m\n\u001b[0;32m     30\u001b[0m ax1\u001b[38;5;241m.\u001b[39mset_xlim(\u001b[38;5;241m0\u001b[39m, \u001b[38;5;241m0.12\u001b[39m)\n\u001b[0;32m     31\u001b[0m \u001b[38;5;66;03m#ax1.set_ylim(10**6, 10**12)\u001b[39;00m\n\u001b[1;32m---> 34\u001b[0m plt\u001b[38;5;241m.\u001b[39msavefig(\u001b[43mread_directory\u001b[49m \u001b[38;5;241m+\u001b[39m\u001b[38;5;124m'\u001b[39m\u001b[38;5;130;01m\\\\\u001b[39;00m\u001b[38;5;124mplots\u001b[39m\u001b[38;5;130;01m\\\\\u001b[39;00m\u001b[38;5;124mpowerSpectrum-lambda\u001b[39m\u001b[38;5;124m'\u001b[39m\u001b[38;5;241m+\u001b[39m\u001b[38;5;28mstr\u001b[39m(val_lambda[i])[\u001b[38;5;241m0\u001b[39m:\u001b[38;5;241m4\u001b[39m]\u001b[38;5;241m+\u001b[39m\u001b[38;5;124m'\u001b[39m\u001b[38;5;124m-Omega\u001b[39m\u001b[38;5;124m'\u001b[39m\u001b[38;5;241m+\u001b[39m \u001b[38;5;28mstr\u001b[39m(val_Omega[j])\n\u001b[0;32m     35\u001b[0m                                                                               \u001b[38;5;241m+\u001b[39m\u001b[38;5;124m'\u001b[39m\u001b[38;5;124m-tau\u001b[39m\u001b[38;5;124m'\u001b[39m  \u001b[38;5;241m+\u001b[39m \u001b[38;5;28mstr\u001b[39m(val_tau[k])  \u001b[38;5;241m+\u001b[39m\u001b[38;5;124m'\u001b[39m\u001b[38;5;124m.pdf\u001b[39m\u001b[38;5;124m'\u001b[39m)  \n\u001b[0;32m     36\u001b[0m plt\u001b[38;5;241m.\u001b[39mshow()\n",
      "\u001b[1;31mNameError\u001b[0m: name 'read_directory' is not defined"
     ]
    },
    {
     "data": {
      "image/png": "[encoded data removed]",
      "text/plain": [
       "<Figure size 809.017x500 with 1 Axes>"
      ]
     },
     "metadata": {},
     "output_type": "display_data"
    }
   ],
   "source": [
    "fig = plt.figure(figsize=(5*ratio,5), constrained_layout = True) \n",
    "\n",
    "ax1 = plt.gca()\n",
    "\n",
    "ax1.set_title('Hes1 Power spectrum',fontdict=font) \n",
    "ax1.set_xlabel('Angular frequency',fontdict=font) \n",
    "ax1.set_ylabel('Power',fontdict=font) \n",
    "\n",
    "\n",
    "\n",
    "freq_th,Sm,Sp=utils.lna_power_spectrum(alpha_m=alpha_m, alpha_p=alpha_p, mu_m=mu_m, mu_p=mu_p,\n",
    "                                                h=h,\n",
    "                                                P_0=P_0,\n",
    "                                                lambda_s=valueOfLambda,\n",
    "                                                tau=valueOfTau,\n",
    "                                                Omega=valueOfOmega,\n",
    "                                                T=T,\n",
    "                                                delta_t=sampling_timestep)\n",
    "\n",
    "\n",
    "linelna,=ax1.plot(freq_ref[1:], power_spectrum_Plna[1:], color = 'red', alpha = 0.2)\n",
    "linet,=ax1.plot(freq_th[1:], Sp[1:], '--', color = 'black', alpha = 0.2)\n",
    "linem,=ax1.plot(freq_ref[1:], power_spectrum_Pm[1:], color = 'blue')\n",
    "linel,=ax1.plot(freq_ref[1:], power_spectrum_Pl[1:], color = 'green')\n",
    "\n",
    "ax1.tick_params(axis ='y') \n",
    "ax1.set_yscale('log')        \n",
    "ax1.legend([linem, linel, linelna, linet], ['Full model', 'Langevin model', 'LNA model', 'Theoretical LNA spectrum'])\n",
    "\n",
    "ax1.set_xlim(0, 0.12)\n",
    "#ax1.set_ylim(10**6, 10**12)\n",
    "\n",
    "\n",
    "plt.savefig(read_directory +'\\\\plots\\\\powerSpectrum-lambda'+str(val_lambda[i])[0:4]+'-Omega'+ str(val_Omega[j])\n",
    "                                                                              +'-tau'  + str(val_tau[k])  +'.pdf')  \n",
    "plt.show()"
   ]
  },
  {
   "cell_type": "markdown",
   "id": "9b6d1671",
   "metadata": {},
   "source": [
    "# Plotting STD"
   ]
  },
  {
   "cell_type": "code",
   "execution_count": null,
   "id": "db3b5de5",
   "metadata": {},
   "outputs": [],
   "source": [
    "n_iter_master = 100\n",
    "n_iter_sde = 100\n",
    "\n",
    "T = 100000\n",
    "sampling_timestep = 0.01\n",
    "n_t=int(T/sampling_timestep)"
   ]
  },
  {
   "cell_type": "code",
   "execution_count": null,
   "id": "49f567e1",
   "metadata": {},
   "outputs": [],
   "source": [
    "arr_mean_Mm=np.zeros(n_lambda)\n",
    "arr_mean_Pm=np.zeros(n_lambda)\n",
    "\n",
    "arr_mean_Ml=np.zeros(n_lambda)\n",
    "arr_mean_Pl=np.zeros(n_lambda)\n",
    "\n",
    "arr_mean_Mlna=np.zeros(n_lambda)\n",
    "arr_mean_Plna=np.zeros(n_lambda)"
   ]
  },
  {
   "cell_type": "code",
   "execution_count": null,
   "id": "c3e65494",
   "metadata": {},
   "outputs": [],
   "source": [
    "arr_std_Mm=np.zeros(n_lambda)\n",
    "arr_std_Pm=np.zeros(n_lambda)\n",
    "\n",
    "arr_std_Ml=np.zeros(n_lambda)\n",
    "arr_std_Pl=np.zeros(n_lambda)\n",
    "\n",
    "arr_std_Mlna=np.zeros(n_lambda)\n",
    "arr_std_Plna=np.zeros(n_lambda)"
   ]
  },
  {
   "cell_type": "code",
   "execution_count": null,
   "id": "45ec715f",
   "metadata": {},
   "outputs": [],
   "source": [
    "arr_momFour_Mm=np.zeros(n_lambda)\n",
    "arr_momFour_Pm=np.zeros(n_lambda)\n",
    "\n",
    "arr_momFour_Ml=np.zeros(n_lambda)\n",
    "arr_momFour_Pl=np.zeros(n_lambda)\n",
    "\n",
    "arr_momFour_Mlna=np.zeros(n_lambda)\n",
    "arr_momFour_Plna=np.zeros(n_lambda)"
   ]
  },
  {
   "cell_type": "code",
   "execution_count": null,
   "id": "7f21069c",
   "metadata": {},
   "outputs": [],
   "source": [
    "n_sample_values = np.zeros(n_lambda, dtype=int)\n",
    "\n",
    "for l in range(n_lambda):\n",
    "    valueOfLambda = val_lambda[l]\n",
    "    if valueOfLambda < 0.1:\n",
    "        n_sample_values[l] = 2\n",
    "    elif valueOfLambda < 0.5:\n",
    "        n_sample_values[l] = 20\n",
    "    elif valueOfLambda < 1:\n",
    "        n_sample_values[l] = 40\n",
    "    elif valueOfLambda < 4:\n",
    "        n_sample_values[l] = 120\n",
    "    else:\n",
    "        n_sample_values[l] = 300"
   ]
  },
  {
   "cell_type": "code",
   "execution_count": null,
   "id": "ab66ed28",
   "metadata": {
    "scrolled": true
   },
   "outputs": [],
   "source": [
    "j=-1\n",
    "k=0\n",
    "\n",
    "for i in range(n_lambda):\n",
    "\n",
    "    valueOfLambda = val_lambda[i]\n",
    "    valueOfOmega = val_Omega[j]\n",
    "    valueOfTau = val_tau[k]\n",
    "    \n",
    "    t0 = time.time()\n",
    "\n",
    "    print(\"Value of lambda:\", valueOfLambda)\n",
    "    print(\"Value of Omega:\", valueOfOmega)\n",
    "    print(\"Value of tau:\", valueOfTau)\n",
    "    \n",
    "    #n_iter_master = n_sample_values[i]\n",
    "        \n",
    "    output=general.simulate_master_meanAndStd(n_iter=n_iter_master, alpha_m=alpha_m,alpha_p=alpha_p,mu_m=mu_m,mu_p=mu_p,\n",
    "                                                                h=h,\n",
    "                                                                P_0=P_0,\n",
    "                                                                lambda_s=valueOfLambda,\n",
    "                                                                tau=valueOfTau,\n",
    "                                                                P_init=0,\n",
    "                                                                M_init=0,\n",
    "                                                                T=T,\n",
    "                                                                delta_t=delta_t,\n",
    "                                                                Omega=valueOfOmega,\n",
    "                                                                sampling_timestep = sampling_timestep)\n",
    "\n",
    "    arr_mean_Mm[i]=output[\"mean Mm\"]\n",
    "    arr_mean_Pm[i]=output[\"mean Pm\"]\n",
    "    arr_std_Mm[i]=output[\"std Mm\"]\n",
    "    arr_std_Pm[i]=output[\"std Pm\"]\n",
    "    arr_momFour_Mm[i]=output[\"momentumFour Mm\"]\n",
    "    arr_momFour_Pm[i]=output[\"momentumFour Pm\"]\n",
    "\n",
    "    output=general.simulate_langevin_meanAndStd(n_iter=n_iter_sde,alpha_m=alpha_m,alpha_p=alpha_p,mu_m=mu_m,mu_p=mu_p,\n",
    "                                                                h=h,\n",
    "                                                                P_0=P_0,\n",
    "                                                                lambda_s=valueOfLambda,\n",
    "                                                                tau=valueOfTau,\n",
    "                                                                P_init=0,\n",
    "                                                                M_init=0,\n",
    "                                                                T=T,\n",
    "                                                                delta_t=delta_t,\n",
    "                                                                Omega=valueOfOmega,\n",
    "                                                                sampling_timestep = sampling_timestep)            \n",
    "    arr_mean_Ml[i]=output[\"mean Ml\"]\n",
    "    arr_mean_Pl[i]=output[\"mean Pl\"]\n",
    "    arr_std_Ml[i]=output[\"std Ml\"]\n",
    "    arr_std_Pl[i]=output[\"std Pl\"]\n",
    "    arr_momFour_Ml[i]=output[\"momentumFour Ml\"]\n",
    "    arr_momFour_Pl[i]=output[\"momentumFour Pl\"]\n",
    "\n",
    "    \n",
    "    output=general.simulate_lna_meanAndStd(n_iter=n_iter_sde,alpha_m=alpha_m,alpha_p=alpha_p,mu_m=mu_m,mu_p=mu_p,\n",
    "                                                                h=h,\n",
    "                                                                P_0=P_0,\n",
    "                                                                lambda_s=valueOfLambda,\n",
    "                                                                tau=valueOfTau,\n",
    "                                                                P_init=0,\n",
    "                                                                M_init=0,\n",
    "                                                                T=T,\n",
    "                                                                delta_t=delta_t,\n",
    "                                                                Omega=valueOfOmega,\n",
    "                                                                sampling_timestep = sampling_timestep)            \n",
    "    arr_mean_Mlna[i]=output[\"mean Mlna\"]\n",
    "    arr_mean_Plna[i]=output[\"mean Plna\"]\n",
    "    arr_std_Mlna[i]=output[\"std Mlna\"]\n",
    "    arr_std_Plna[i]=output[\"std Plna\"]\n",
    "    arr_momFour_Mlna[i]=output[\"momentumFour Mlna\"]\n",
    "    arr_momFour_Plna[i]=output[\"momentumFour Plna\"]\n",
    "    \n",
    "    print(\"\\n\")\n",
    "    print(\"Number of iterations: \", n_iter_master, n_iter_sde)\n",
    "    print(\"Computation time: \", (time.time() - t0)//3600, \"h \", ((time.time() - t0)//60)%60, \"min \", (time.time() - t0)%60, \"s\")\n",
    "    print(\"\\n\")\n"
   ]
  },
  {
   "cell_type": "code",
   "execution_count": null,
   "id": "4b376104",
   "metadata": {},
   "outputs": [],
   "source": [
    "arr_std_th_Plna=np.zeros(n_lambda)\n",
    "\n",
    "for i in range(n_lambda):\n",
    "    \n",
    "    valueOfLambda = val_lambda[i]\n",
    "    valueOfOmega = val_Omega[j]\n",
    "    valueOfTau = val_tau[k]\n",
    "    \n",
    "    freq_th,Sm,Sp=utils.lna_power_spectrum(alpha_m=alpha_m, alpha_p=alpha_p, mu_m=mu_m, mu_p=mu_p,\n",
    "                                                h=h,\n",
    "                                                P_0=P_0,\n",
    "                                                lambda_s=valueOfLambda,\n",
    "                                                tau=valueOfTau,\n",
    "                                                Omega=valueOfOmega,\n",
    "                                                T=T,\n",
    "                                                delta_t=sampling_timestep)\n",
    "    dfreq = freq_th[1]-freq_th[0]\n",
    "    arr_std_th_Plna[i] = np.sqrt(sum(Sp[1:])*dfreq/np.pi)"
   ]
  },
  {
   "cell_type": "code",
   "execution_count": null,
   "id": "3713ec8a",
   "metadata": {},
   "outputs": [],
   "source": [
    "arr_std_Pm2 = np.sqrt(arr_momFour_Pm - (arr_std_Pm**2 + arr_mean_Pm**2)**2)\n",
    "arr_std_Pl2 = np.sqrt(arr_momFour_Pl - (arr_std_Pl**2 + arr_mean_Pl**2)**2)\n",
    "arr_std_Plna2 = np.sqrt(arr_momFour_Plna - (arr_std_Plna**2 + arr_mean_Plna**2)**2)"
   ]
  },
  {
   "cell_type": "code",
   "execution_count": null,
   "id": "5a558fdb",
   "metadata": {},
   "outputs": [],
   "source": [
    "fig = plt.figure(figsize=(5*ratio,5), constrained_layout = True) \n",
    "\n",
    "ax1 = plt.gca()\n",
    "\n",
    "ax1.set_title('Hes1 concentration STD against lambda',fontdict=font) \n",
    "ax1.set_xlabel('lambda',fontdict=font) \n",
    "ax1.set_ylabel('Hes1 concentration STD',fontdict=font)\n",
    "\n",
    "linelna,=ax1.plot(val_lambda, arr_std_Plna, color = 'red', alpha = 0.5)\n",
    "linet,=ax1.plot(val_lambda, arr_std_th_Plna,'--', color = 'black', alpha = 0.5)\n",
    "linem,=ax1.plot(val_lambda, arr_std_Pm, color = 'blue')\n",
    "linel,=ax1.plot(val_lambda, arr_std_Pl, color = 'green')\n",
    "\n",
    "ax1.tick_params(axis ='y')\n",
    "ax1.legend([linem, linel, linelna, linet], ['Full model', 'Langevin model', 'LNA model', 'Theoretical LNA STD'])\n",
    "ax1.set_xscale('log')\n",
    "ax1.set_yscale('log')        \n",
    "\n",
    "\n",
    "#ax1.set_xlim(1,100)\n",
    "#ax1.set_ylim(1.5*10**3, 6*10**3)\n",
    "\n",
    "plt.savefig(read_directory +'\\\\plots\\\\std-plots-Omega' + str(val_Omega[j]) + '-tau' + str(val_tau[k]) + '.pdf')  \n",
    "plt.show()"
   ]
  },
  {
   "cell_type": "code",
   "execution_count": null,
   "id": "8e15c4b3",
   "metadata": {},
   "outputs": [],
   "source": [
    "arr_rel_Pl = abs(arr_std_Pm - arr_std_Pl)/arr_std_Pm\n",
    "arr_rel_Plna = abs(arr_std_Pm - arr_std_Plna)/arr_std_Pm\n",
    "arr_rel_th_Plna = abs(arr_std_Pm - arr_std_th_Plna)/arr_std_Pm"
   ]
  },
  {
   "cell_type": "code",
   "execution_count": null,
   "id": "2b363450",
   "metadata": {},
   "outputs": [],
   "source": [
    "n_sample_by_traj = round((T-2000)/sampling_timestep)"
   ]
  },
  {
   "cell_type": "code",
   "execution_count": null,
   "id": "ad97bc77",
   "metadata": {},
   "outputs": [],
   "source": [
    "err_arr_varPl=(1/np.sqrt(n_iter_sde) * (arr_std_Pl2/arr_std_Pl**2 + 2*arr_mean_Pl/arr_std_Pl) + 1/np.sqrt(n_iter_master) * (arr_std_Pm2/arr_std_Pm**2 + 2*arr_mean_Pm/arr_std_Pm))/np.sqrt(4*n_sample_by_traj)\n",
    "err_arr_varPlna=(1/np.sqrt(n_iter_sde) * (arr_std_Plna2/arr_std_Plna**2+ 2*arr_mean_Plna/arr_std_Plna) + 1/np.sqrt(n_iter_master) * (arr_std_Pm2/arr_std_Pm**2 + 2*arr_mean_Pm/arr_std_Pm))/np.sqrt(4*n_sample_by_traj)\n",
    "err_arr_varPth=1/np.sqrt(n_sample_values) * (arr_std_Pm2/arr_std_Pm**2 + 2*arr_mean_Pm/arr_std_Pm) / np.sqrt(4*n_sample_by_traj)"
   ]
  },
  {
   "cell_type": "code",
   "execution_count": null,
   "id": "617f4790",
   "metadata": {},
   "outputs": [],
   "source": [
    "err_arr_varAll = np.maximum(err_arr_varPl*(arr_rel_Pl+1), err_arr_varPlna*(arr_rel_Plna+1), err_arr_varPth*(arr_rel_th_Plna+1))"
   ]
  },
  {
   "cell_type": "code",
   "execution_count": null,
   "id": "d142484b",
   "metadata": {},
   "outputs": [],
   "source": [
    "fig = plt.figure(figsize=(5*ratio,5), constrained_layout = True) \n",
    "\n",
    "ax1 = plt.gca()\n",
    "\n",
    "ax1.set_title('Hes1 concentration STD relative error against lambda') \n",
    "ax1.set_xlabel('lambda') \n",
    "ax1.set_ylabel('STD relative error')\n",
    "\n",
    "linel,=ax1.plot(val_lambda, arr_rel_Pl, color = 'red')\n",
    "linelna,=ax1.plot(val_lambda, arr_rel_Plna, color = 'orange')\n",
    "linet,=ax1.plot(val_lambda, arr_rel_th_Plna, color = 'black')\n",
    "\n",
    "#linelim, = ax1.plot(val_lambda, err_arr_varAll*30, '--', color = 'purple', alpha = 0.1)\n",
    "#linelim, = ax1.plot(val_lambda, err_arr_varAll*20, '--', color = 'purple', alpha = 0.2)\n",
    "#linelim, = ax1.plot(val_lambda, err_arr_varAll*10, '--', color = 'purple', alpha = 0.3)\n",
    "\n",
    "ax1.legend([linel, linelna, linet], ['Langevin model STD', 'LNA model STD', 'Theoretical LNA STD'], loc='upper right')\n",
    "\n",
    "#ax1.fill_between(val_lambda, err_arr_varAll*30, color = 'purple', alpha = 0.1)\n",
    "#ax1.fill_between(val_lambda, err_arr_varAll*20, color = 'purple', alpha = 0.2)\n",
    "#ax1.fill_between(val_lambda, err_arr_varAll*10, color = 'purple', alpha = 0.3)\n",
    "\n",
    "\n",
    "ax1.tick_params(axis ='y') \n",
    "ax1.set_xscale('log')\n",
    "ax1.set_yscale('log')        \n",
    "\n",
    "\n",
    "#ax1.set_xlim(0, 0.15)\n",
    "#ax1.set_ylim(5*10**(-4), 2)\n",
    "\n",
    "plt.savefig(read_directory +'\\\\plots\\\\error-std-plots-Omega' + str(val_Omega[j]) + '-tau' + str(val_tau[k]) + '.pdf')  \n",
    "plt.show()"
   ]
  },
  {
   "cell_type": "code",
   "execution_count": null,
   "id": "2a478da4",
   "metadata": {},
   "outputs": [],
   "source": [
    "try:\n",
    "    os.makedirs(read_directory+'\\\\data1')\n",
    "    os.makedirs(read_directory+'\\\\data2')\n",
    "except FileExistsError:\n",
    "    pass"
   ]
  },
  {
   "cell_type": "code",
   "execution_count": null,
   "id": "9ac467fc",
   "metadata": {},
   "outputs": [],
   "source": [
    "pd.DataFrame(val_lambda,columns=['value']).to_csv(read_directory+'\\\\data'+str(param_number)+'\\\\lambda.csv')\n",
    "pd.DataFrame(val_Omega,columns=['value']).to_csv(read_directory+'\\\\data'+str(param_number)+'\\\\Omega.csv')\n",
    "pd.DataFrame(val_tau,columns=['value']).to_csv(read_directory+'\\\\data'+str(param_number)+'\\\\tau.csv')\n",
    "\n",
    "pd.DataFrame(arr_std_Mm,columns=['value']).to_csv(read_directory+'\\\\data'+str(param_number)+'\\\\std-Mm.csv')\n",
    "pd.DataFrame(arr_std_Pm,columns=['value']).to_csv(read_directory+'\\\\data'+str(param_number)+'\\\\std-Pm.csv')\n",
    "pd.DataFrame(arr_std_Ml,columns=['value']).to_csv(read_directory+'\\\\data'+str(param_number)+'\\\\std-Ml.csv')\n",
    "pd.DataFrame(arr_std_Pl,columns=['value']).to_csv(read_directory+'\\\\data'+str(param_number)+'\\\\std-Pl.csv')\n",
    "pd.DataFrame(arr_std_Mlna,columns=['value']).to_csv(read_directory+'\\\\data'+str(param_number)+'\\\\std-Mlna.csv')\n",
    "pd.DataFrame(arr_std_Plna,columns=['value']).to_csv(read_directory+'\\\\data'+str(param_number)+'\\\\std-Plna.csv')"
   ]
  },
  {
   "cell_type": "code",
   "execution_count": null,
   "id": "4b0e9b30",
   "metadata": {},
   "outputs": [],
   "source": []
  }
 ],
 "metadata": {
  "kernelspec": {
   "display_name": "Python 3 (ipykernel)",
   "language": "python",
   "name": "python3"
  },
  "language_info": {
   "codemirror_mode": {
    "name": "ipython",
    "version": 3
   },
   "file_extension": ".py",
   "mimetype": "text/x-python",
   "name": "python",
   "nbconvert_exporter": "python",
   "pygments_lexer": "ipython3",
   "version": "3.9.12"
  }
 },
 "nbformat": 4,
 "nbformat_minor": 5
}

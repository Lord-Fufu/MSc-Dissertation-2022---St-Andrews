{
 "cells": [
  {
   "cell_type": "code",
   "execution_count": null,
   "id": "0b871770-c44b-4fb7-b10a-f70515588b8b",
   "metadata": {},
   "outputs": [],
   "source": [
    "import hes1_langevin_Antoine as langevin\n",
    "import hes1_master_Antoine as master\n",
    "import hes1_utils_Antoine as utils\n",
    "\n",
    "import hes1_utils_general as general\n",
    "import jochen_utils\n",
    "\n",
    "import matplotlib.pyplot as plt\n",
    "import numpy as np\n",
    "import pandas as pd\n",
    "import scipy.interpolate as spinter\n",
    "import scipy.fft\n",
    "import time\n",
    "import datetime as dt\n",
    "import os\n",
    "\n",
    "import time\n",
    "\n",
    "import warnings\n",
    "warnings.filterwarnings(\"ignore\")"
   ]
  },
  {
   "cell_type": "code",
   "execution_count": null,
   "id": "ad144de6",
   "metadata": {},
   "outputs": [],
   "source": [
    "font = {\n",
    "    'family' : 'Arial',\n",
    "    'color'  : 'black',\n",
    "    'weight' : 'normal',\n",
    "    'size'   : 22,\n",
    "}\n",
    "legendFont = 14\n",
    "\n",
    "ratio=(1+np.sqrt(5))/2"
   ]
  },
  {
   "cell_type": "markdown",
   "id": "fc4efa1c",
   "metadata": {},
   "source": [
    "# Plots"
   ]
  },
  {
   "cell_type": "markdown",
   "id": "7ad38fd3",
   "metadata": {},
   "source": [
    "Name hereafter the directory you want to use for the plots."
   ]
  },
  {
   "cell_type": "code",
   "execution_count": null,
   "id": "15f0b718",
   "metadata": {},
   "outputs": [],
   "source": [
    "read_directory = 'paper plots 2024-4-29-12-14-49 heatmap'\n",
    "read_data=read_directory+'\\\\data'"
   ]
  },
  {
   "cell_type": "code",
   "execution_count": null,
   "id": "57fbb600",
   "metadata": {},
   "outputs": [],
   "source": [
    "spec=pd.read_csv(read_data + '\\\\spec.csv')['value'].values\n",
    "\n",
    "val_lambda=pd.read_csv(read_data + '\\\\lambda.csv')['value'].values\n",
    "val_Omega=pd.read_csv(read_data + '\\\\Omega.csv')['value'].values\n",
    "val_tau=pd.read_csv(read_data + '\\\\tau.csv')['value'].values\n",
    "\n",
    "n_lambda = val_lambda.size\n",
    "n_Omega = val_Omega.size\n",
    "n_tau = val_tau.size"
   ]
  },
  {
   "cell_type": "code",
   "execution_count": null,
   "id": "14e86955",
   "metadata": {},
   "outputs": [],
   "source": [
    "arr_std_Mm=pd.read_csv(read_data + '\\\\std-Mm.csv').values[0:n_lambda, 1:n_Omega+1]\n",
    "arr_std_Pm=pd.read_csv(read_data + '\\\\std-Pm.csv').values[0:n_lambda, 1:n_Omega+1]\n",
    "arr_std_Ml=pd.read_csv(read_data + '\\\\std-Ml.csv').values[0:n_lambda, 1:n_Omega+1]\n",
    "arr_std_Pl=pd.read_csv(read_data + '\\\\std-Pl.csv').values[0:n_lambda, 1:n_Omega+1]"
   ]
  },
  {
   "cell_type": "code",
   "execution_count": null,
   "id": "8e15c4b3",
   "metadata": {},
   "outputs": [],
   "source": [
    "inv_val_lambda = [1/x for x in val_lambda]\n",
    "inv_val_Omega  = [1/x for x in val_Omega]\n",
    "\n",
    "arr_rel_Pl = abs(arr_std_Pm - arr_std_Pl)/arr_std_Pm"
   ]
  },
  {
   "cell_type": "code",
   "execution_count": null,
   "id": "d142484b",
   "metadata": {},
   "outputs": [],
   "source": [
    "k=0\n",
    "\n",
    "\n",
    "fig = plt.figure(figsize=(5*ratio,5), constrained_layout = True) \n",
    "\n",
    "ax1 = plt.gca()\n",
    "ax1.set_title('Heatmap of Hes1 concentration STD relative error \\n against lambda and Omega', fontdict = font) \n",
    "ax1.set_xlabel('Omega', fontdict = font) \n",
    "ax1.set_ylabel('lambda', fontdict = font)\n",
    "\n",
    "cont=ax1.contour(val_Omega, val_lambda, arr_rel_Pl, levels = [0.05, 0.1, 0.2, 0.3, 0.4, 0.5, 0.6, 0.7, 0.8, 0.9], color = 'red')\n",
    "hmap=ax1.pcolormesh(val_Omega, val_Omega, arr_rel_Pl, cmap='RdBu', shading = 'gouraud')\n",
    "ax1.clabel(cont, inline=False, fontsize=10)\n",
    "\n",
    "ax1.legend([cont], ['Langevin model STD error'], loc='upper right')\n",
    "\n",
    "ax1.tick_params(axis ='y') \n",
    "ax1.set_xscale('log')\n",
    "ax1.set_yscale('log')        \n",
    "\n",
    "ax1.set_xlim(0.01, 100)\n",
    "ax1.set_ylim(0.03, 100)\n",
    "\n",
    "plt.savefig(read_directory +'\\\\plots\\\\heatmap-error-plot- tau' + str(val_tau[k]) + '.pdf')  \n",
    "plt.show()"
   ]
  },
  {
   "cell_type": "code",
   "execution_count": null,
   "id": "5e6121fb",
   "metadata": {},
   "outputs": [],
   "source": [
    "fig = plt.figure(figsize=(5*ratio,5), constrained_layout = True) \n",
    "\n",
    "ax1 = plt.gca()\n",
    "\n",
    "ax1.set_title('Heatmap of Hes1 concentration STD relative error against lambda and Omega') \n",
    "ax1.set_xlabel('Omega') \n",
    "ax1.set_ylabel('lambda')\n",
    "\n",
    "cont=ax1.contour(inv_val_Omega, inv_val_lambda, arr_rel_Pl, levels = [0.02, 0.1, 0.2, 0.3, 0.4, 0.5, 0.6, 0.7, 0.8, 0.9], color = 'red')\n",
    "ax1.clabel(cont, inline=False, fontsize=10)\n",
    "ax1.fill_between(val_lambda[:12], 12*[0.01], 12*[4], color = 'red', alpha = 0.1)\n",
    "\n",
    "ax1.legend([cont], ['Langevin model STD error'], loc='upper right')\n",
    "\n",
    "ax1.tick_params(axis ='y') \n",
    "ax1.set_xscale('log')\n",
    "ax1.set_yscale('log')        \n",
    "\n",
    "ax1.set_xlim(0.01, 150)\n",
    "ax1.set_ylim(0.01, 40)\n",
    "\n",
    "plt.savefig(read_directory +'\\\\plots\\\\heatmap-error-plot- tau' + str(val_tau[k]) + '.pdf')  \n",
    "plt.show()"
   ]
  },
  {
   "cell_type": "code",
   "execution_count": null,
   "id": "83030103",
   "metadata": {},
   "outputs": [],
   "source": [
    "fig = plt.figure(figsize=(5*ratio,5), constrained_layout = True) \n",
    "\n",
    "ax1 = plt.gca()\n",
    "\n",
    "ax1.set_title('Heatmap of Hes1 concentration STD relative error against lambda and Omega') \n",
    "ax1.set_xlabel('Omega') \n",
    "ax1.set_ylabel('lambda')\n",
    "\n",
    "x, y = np.meshgrid(val_Omega, val_lambda)\n",
    "cont=ax1.pcolormesh(x, y, arr_rel_Pl, cmap='RdBu', shading = 'gouraud')\n",
    "\n",
    "ax1.legend([cont], ['Langevin model STD error'], loc='upper right')\n",
    "\n",
    "ax1.tick_params(axis ='y') \n",
    "ax1.set_xscale('log')\n",
    "ax1.set_yscale('log')        \n",
    "\n",
    "\n",
    "ax1.set_xlim(0.001, 100)\n",
    "ax1.set_ylim(0.01, 100)\n",
    "\n",
    "#plt.savefig(read_directory +'\\\\plots\\\\heatmap-error-plot- tau' + str(val_tau[k]) + '.pdf')  \n",
    "plt.show()"
   ]
  }
 ],
 "metadata": {
  "kernelspec": {
   "display_name": "Python 3 (ipykernel)",
   "language": "python",
   "name": "python3"
  },
  "language_info": {
   "codemirror_mode": {
    "name": "ipython",
    "version": 3
   },
   "file_extension": ".py",
   "mimetype": "text/x-python",
   "name": "python",
   "nbconvert_exporter": "python",
   "pygments_lexer": "ipython3",
   "version": "3.9.12"
  }
 },
 "nbformat": 4,
 "nbformat_minor": 5
}

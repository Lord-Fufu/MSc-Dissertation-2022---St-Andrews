{
 "cells": [
  {
   "cell_type": "code",
   "execution_count": 72,
   "id": "0b871770-c44b-4fb7-b10a-f70515588b8b",
   "metadata": {},
   "outputs": [],
   "source": [
    "import hes1_langevin_Antoine as langevin\n",
    "import hes1_master_Antoine as master\n",
    "import hes1_utils_Antoine as utils\n",
    "\n",
    "import hes1_utils_general as general\n",
    "# import jochen_utils\n",
    "\n",
    "import matplotlib.pyplot as plt\n",
    "import numpy as np\n",
    "import pandas as pd\n",
    "import scipy.interpolate as spinter\n",
    "import scipy.fft\n",
    "import time\n",
    "import datetime as dt\n",
    "import os\n",
    "\n",
    "import time\n",
    "\n",
    "import warnings\n",
    "warnings.filterwarnings(\"ignore\")"
   ]
  },
  {
   "cell_type": "code",
   "execution_count": null,
   "id": "c51bcbe6",
   "metadata": {},
   "outputs": [],
   "source": []
  },
  {
   "cell_type": "code",
   "execution_count": 73,
   "id": "e8bfbbc4",
   "metadata": {},
   "outputs": [],
   "source": [
    "# font = {\n",
    "    # 'family' : 'Arial',\n",
    "    # 'color'  : 'black',\n",
    "    # 'weight' : 'normal',\n",
    "    # 'size'   : 22,\n",
    "# }\n",
    "# legendFont = 14\n",
    "font = {'size'   : 8,\n",
    "        'sans-serif' : 'Arial'}\n",
    "plt.rc('font', **font)\n",
    "\n",
    "# ratio=(1+np.sqrt(5))/2"
   ]
  },
  {
   "cell_type": "markdown",
   "id": "5d9a13f2",
   "metadata": {},
   "source": [
    "# Plotting power spectrum"
   ]
  },
  {
   "cell_type": "markdown",
   "id": "1a943283",
   "metadata": {},
   "source": [
    "Name hereafter the directory you want to use for the plots"
   ]
  },
  {
   "cell_type": "code",
   "execution_count": 74,
   "id": "5a2c47a9",
   "metadata": {},
   "outputs": [],
   "source": [
    "# read_directory = 'paper plots 2024-4-27-0-42-48 mean-std-power-spectrum'\n",
    "read_directory = ''\n",
    "# read_directory = os.path.join(os.getcwd(),'paper_plots_mean-std-power-spectrum') \n",
    "# write_directory = 'power_spectra_plots'"
   ]
  },
  {
   "cell_type": "code",
   "execution_count": 75,
   "id": "94d094bd",
   "metadata": {},
   "outputs": [],
   "source": [
    "spec = pd.read_csv(os.path.join(read_directory,'data','spec.csv'))['value'].values\n",
    "paramPoint=pd.read_csv(os.path.join(read_directory,'data','paramPoint-spectrum.csv'))['value'].values\n",
    "t_ref=pd.read_csv(os.path.join(read_directory,'data','t-spectrum.csv'))['value'].values\n",
    "freq_ref=pd.read_csv(os.path.join(read_directory,'data','freq-spectrum.csv'))['value'].values\n",
    "\n",
    "power_spectrum_Mm=pd.read_csv(os.path.join(read_directory,'data','power-spectrum-Mm.csv'))['value'].values\n",
    "power_spectrum_Pm=pd.read_csv(os.path.join(read_directory,'data','power-spectrum-Pm.csv'))['value'].values\n",
    "power_spectrum_Ml=pd.read_csv(os.path.join(read_directory,'data','power-spectrum-Ml.csv'))['value'].values\n",
    "power_spectrum_Pl=pd.read_csv(os.path.join(read_directory,'data','power-spectrum-Pl.csv'))['value'].values\n",
    "power_spectrum_Mlna=pd.read_csv(os.path.join(read_directory,'data','power-spectrum-Mlna.csv'))['value'].values\n",
    "power_spectrum_Plna=pd.read_csv(os.path.join(read_directory,'data','power-spectrum-Plna.csv'))['value'].values"
   ]
  },
  {
   "cell_type": "code",
   "execution_count": 76,
   "id": "2f36acf8",
   "metadata": {},
   "outputs": [],
   "source": [
    "[alpha_m, alpha_p, mu_m, mu_p, h, P_0, T, delta_t] = spec\n",
    "[valueOfLambda, valueOfOmega, valueOfTau, sampling_timestep] = paramPoint"
   ]
  },
  {
   "cell_type": "code",
   "execution_count": 77,
   "id": "3153ec1e",
   "metadata": {},
   "outputs": [],
   "source": [
    "# F_dash = blabla\n",
    "# delta_square =mu_M*mu_P-alpha_m*alpha_p*\\cos(\\omega\\tau)-\\omega^2\\right]^2+\\left[\\omega(\\mu_M+\\mu_P)+\\alpha_M\\alpha_P F'(x_P^*)\\sin(\\omega\\tau)\\right]^"
   ]
  },
  {
   "cell_type": "code",
   "execution_count": 78,
   "id": "76b16c8f-4cf1-4681-80a3-86efb4c6b206",
   "metadata": {},
   "outputs": [
    {
     "data": {
      "image/png": "[encoded data removed]",
      "text/plain": [
       "<Figure size 330x200 with 1 Axes>"
      ]
     },
     "metadata": {},
     "output_type": "display_data"
    }
   ],
   "source": [
    "fig = plt.figure(figsize=(3.3,2.0), constrained_layout = True) \n",
    "\n",
    "ax1 = plt.gca()\n",
    "\n",
    "# ax1.set_title('Hes1 Power spectrum',fontdict=font) \n",
    "# ax1.set_xlabel('Angular frequency') \n",
    "ax1.set_xlabel('$\\omega$ $/\\mathrm{min}^{-1}$') \n",
    "# ax1.set_ylabel('Power') \n",
    "ax1.set_ylabel('$S_p(\\omega)$') \n",
    "\n",
    "\n",
    "\n",
    "freq_th,Sm,Sp=utils.lna_power_spectrum(alpha_m=alpha_m, alpha_p=alpha_p, mu_m=mu_m, mu_p=mu_p,\n",
    "                                                h=h,\n",
    "                                                P_0=P_0,\n",
    "                                                lambda_s=valueOfLambda,\n",
    "                                                tau=valueOfTau,\n",
    "                                                Omega=valueOfOmega,\n",
    "                                                T=T,\n",
    "                                                delta_t=sampling_timestep)\n",
    "\n",
    "fig.text(0.02, 0.9, 'B', size=9, weight='bold')\n",
    "linelna,=ax1.plot(freq_ref[1:], power_spectrum_Plna[1:], color = 'red', alpha = 0.2)\n",
    "linet,=ax1.plot(freq_th[1:], Sp[1:], '--', color = 'black', alpha = 0.2)\n",
    "linem,=ax1.plot(freq_ref[1:], power_spectrum_Pm[1:], color = 'blue')\n",
    "linel,=ax1.plot(freq_ref[1:], power_spectrum_Pl[1:], color = 'green')\n",
    "\n",
    "ax1.tick_params(axis ='y') \n",
    "ax1.set_yscale('log')        \n",
    "ax1.legend([linem, linel, linelna, linet], ['Full model', 'CLE', 'LNA', 'LNA theory'], fontsize = 8)\n",
    "\n",
    "ax1.set_xlim(0, 0.12)\n",
    "ax1.set_ylim(10**5, 3*10**9)\n",
    "\n",
    "\n",
    "plt.savefig(os.path.join(read_directory,'plots','lpowerSpectrum-lambda'+str(valueOfLambda)[0:4]+'-Omega'+ str(valueOfOmega)\n",
    "                                                                              +'-tau'+ str(valueOfTau)  +'.pdf'))  \n",
    "plt.show()"
   ]
  },
  {
   "cell_type": "markdown",
   "id": "9b6d1671",
   "metadata": {},
   "source": [
    "# Plotting mean & STD"
   ]
  },
  {
   "cell_type": "code",
   "execution_count": 79,
   "id": "46882363",
   "metadata": {},
   "outputs": [],
   "source": [
    "val_lambda=pd.read_csv(os.path.join(read_directory,'data','lambda.csv'))['value'].values\n",
    "val_Omega=pd.read_csv(os.path.join(read_directory,'data','Omega.csv'))['value'].values\n",
    "val_tau=pd.read_csv(os.path.join(read_directory,'data','tau.csv'))['value'].values\n",
    "index=pd.read_csv(os.path.join(read_directory,'data','index.csv'))['value'].values\n",
    "\n",
    "arr_std_Mm=pd.read_csv(os.path.join(read_directory,'data','std-Mm.csv'))['value'].values\n",
    "arr_std_Pm=pd.read_csv(os.path.join(read_directory,'data','std-Pm.csv'))['value'].values\n",
    "arr_std_Ml=pd.read_csv(os.path.join(read_directory,'data','std-Ml.csv'))['value'].values\n",
    "arr_std_Pl=pd.read_csv(os.path.join(read_directory,'data','std-Pl.csv'))['value'].values\n",
    "arr_std_Mlna=pd.read_csv(os.path.join(read_directory,'data','std-Mlna.csv'))['value'].values\n",
    "arr_std_Plna=pd.read_csv(os.path.join(read_directory,'data','std-Plna.csv'))['value'].values"
   ]
  },
  {
   "cell_type": "code",
   "execution_count": 80,
   "id": "eadaf911",
   "metadata": {},
   "outputs": [],
   "source": [
    "n_lambda=np.size(val_lambda)\n",
    "n_Omega=np.size(val_Omega)\n",
    "n_tau=np.size(val_tau)\n",
    "[j,k] = index"
   ]
  },
  {
   "cell_type": "code",
   "execution_count": 81,
   "id": "4b376104",
   "metadata": {},
   "outputs": [],
   "source": [
    "arr_std_th_Plna=np.zeros(n_lambda)\n",
    "\n",
    "for i in range(n_lambda):\n",
    "    \n",
    "    valueOfLambda = val_lambda[i]\n",
    "    valueOfOmega = val_Omega[j]\n",
    "    valueOfTau = val_tau[k]\n",
    "    \n",
    "    freq_th,Sm,Sp=utils.lna_power_spectrum(alpha_m=alpha_m, alpha_p=alpha_p, mu_m=mu_m, mu_p=mu_p,\n",
    "                                                h=h,\n",
    "                                                P_0=P_0,\n",
    "                                                lambda_s=valueOfLambda,\n",
    "                                                tau=valueOfTau,\n",
    "                                                Omega=valueOfOmega,\n",
    "                                                T=T,\n",
    "                                                delta_t=sampling_timestep)\n",
    "    dfreq = freq_th[1]-freq_th[0]\n",
    "    arr_std_th_Plna[i] = np.sqrt(sum(Sp[1:])*dfreq/np.pi)"
   ]
  },
  {
   "cell_type": "code",
   "execution_count": 98,
   "id": "5a558fdb",
   "metadata": {},
   "outputs": [
    {
     "data": {
      "image/png": "[encoded data removed]",
      "text/plain": [
       "<Figure size 330x200 with 1 Axes>"
      ]
     },
     "metadata": {},
     "output_type": "display_data"
    }
   ],
   "source": [
    "# fig = plt.figure(figsize=(5*ratio,5), constrained_layout = True) \n",
    "fig = plt.figure(figsize=(3.3,2.0), constrained_layout = True) \n",
    "\n",
    "ax1 = plt.gca()\n",
    "\n",
    "ax1.set_xlabel('$\\lambda$ $/\\mathrm{min}^{-1}$') \n",
    "ax1.set_ylabel('$\\Sigma_P$')\n",
    "\n",
    "straight_line = 3e3/np.sqrt(val_lambda)\n",
    "\n",
    "linelna,=ax1.plot(val_lambda, arr_std_Plna, color = 'red', alpha = 0.5, lw = 1.0)\n",
    "linet,=ax1.plot(val_lambda, arr_std_th_Plna,'--', color = 'black', alpha = 0.5, lw = 1.0)\n",
    "linem,=ax1.plot(val_lambda, arr_std_Pm, color = 'blue', lw = 1.0)\n",
    "linel,=ax1.plot(val_lambda, arr_std_Pl, color = 'green', lw =1.0)\n",
    "lines,=ax1.plot(val_lambda, straight_line, color = 'black', lw =1.0)\n",
    "\n",
    "ax1.tick_params(axis ='y')\n",
    "ax1.legend([linem, linel, linelna, linet,lines], ['Full model', 'CLE', 'LNA', 'LNA theory', '$\\Sigma_p \\propto \\sqrt{\\lambda}$'], fontsize = 8)\n",
    "ax1.set_xscale('log')\n",
    "ax1.set_yscale('log')        \n",
    "\n",
    "#ax1.set_xlim(1,100)\n",
    "#ax1.set_ylim(1.5*10**3, 6*10**3)\n",
    "fig.text(0.01, 0.9, 'A', size=9, weight='bold')\n",
    "\n",
    "\n",
    "plt.savefig(os.path.join(read_directory ,'plots','std-plots-Omega' + str(val_Omega[j]) + '-tau' + str(val_tau[k]) + '.pdf'))\n",
    "plt.show()"
   ]
  },
  {
   "cell_type": "code",
   "execution_count": 83,
   "id": "8e15c4b3",
   "metadata": {},
   "outputs": [],
   "source": [
    "arr_rel_Pl = abs(arr_std_Pm - arr_std_Pl)/arr_std_Pm\n",
    "arr_rel_Plna = abs(arr_std_Pm - arr_std_Plna)/arr_std_Pm\n",
    "arr_rel_th_Plna = abs(arr_std_Pm - arr_std_th_Plna)/arr_std_Pm"
   ]
  },
  {
   "cell_type": "code",
   "execution_count": 97,
   "id": "d142484b",
   "metadata": {},
   "outputs": [
    {
     "data": {
      "image/png": "[encoded data removed]",
      "text/plain": [
       "<Figure size 330x200 with 1 Axes>"
      ]
     },
     "metadata": {},
     "output_type": "display_data"
    }
   ],
   "source": [
    "# fig = plt.figure(figsize=(5*ratio,5), constrained_layout = True) \n",
    "fig = plt.figure(figsize=(3.3,2.0), constrained_layout = True) \n",
    "\n",
    "ax1 = plt.gca()\n",
    "\n",
    "# ax1.set_title('Hes1 concentration STD relative error against lambda',fontdict=font) \n",
    "ax1.set_xlabel('$\\lambda$') \n",
    "ax1.set_xlabel('$\\lambda$ $/\\mathrm{min}^{-1}$') \n",
    "ax1.set_ylabel('$r_\\Sigma$')\n",
    "\n",
    "linelim,=ax1.plot([0.01,100], [0.05, 0.05], color = 'grey', alpha = 0.6, lw = 1.0)\n",
    "linelna,=ax1.plot(val_lambda, arr_rel_Plna, color = 'red', alpha = 0.5, lw = 1.0)\n",
    "linet,=ax1.plot(val_lambda, arr_rel_th_Plna, '--', color = 'black', alpha = 0.5, lw = 1.0)\n",
    "linel,=ax1.plot(val_lambda, arr_rel_Pl, color = 'green', lw =1.0)\n",
    "\n",
    "ax1.legend([linel, linelna, linet,linelim], ['CLE', 'LNA', 'LNA theory', '5% error limit'], loc='upper right', fontsize = 8)\n",
    "\n",
    "ax1.tick_params(axis ='y') \n",
    "ax1.set_xscale('log')\n",
    "#ax1.set_yscale('log')        \n",
    "\n",
    "#ax1.set_xlim(0, 0.15)\n",
    "#ax1.set_ylim(5*10**(-4), 2)\n",
    "fig.text(0.01, 0.9, 'B', size=9, weight='bold')\n",
    "\n",
    "plt.savefig(os.path.join(read_directory,'plots','error-std-plots-Omega' + str(val_Omega[j]) + '-tau' + str(val_tau[k]) + '.pdf'))\n",
    "plt.show()"
   ]
  },
  {
   "cell_type": "code",
   "execution_count": null,
   "id": "5f6e7bea",
   "metadata": {},
   "outputs": [],
   "source": []
  }
 ],
 "metadata": {
  "kernelspec": {
   "display_name": "Python 3 (ipykernel)",
   "language": "python",
   "name": "python3"
  },
  "language_info": {
   "codemirror_mode": {
    "name": "ipython",
    "version": 3
   },
   "file_extension": ".py",
   "mimetype": "text/x-python",
   "name": "python",
   "nbconvert_exporter": "python",
   "pygments_lexer": "ipython3",
   "version": "3.9.7"
  }
 },
 "nbformat": 4,
 "nbformat_minor": 5
}

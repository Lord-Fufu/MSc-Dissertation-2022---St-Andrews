{
 "cells": [
  {
   "cell_type": "code",
   "execution_count": 91,
   "id": "5e6aa371",
   "metadata": {},
   "outputs": [],
   "source": [
    "import hes1_langevin_Antoine as langevin\n",
    "import hes1_master_Antoine as master\n",
    "import hes1_utils_Antoine as utils\n",
    "import hes1_utils_general as general\n",
    "# import jochen_utils as jutils\n",
    "\n",
    "import matplotlib.pyplot as plt\n",
    "import numpy as np\n",
    "import math\n",
    "import pandas as pd\n",
    "import scipy.interpolate as spinter\n",
    "import scipy.fft\n",
    "import time\n",
    "import datetime as dt\n",
    "import os\n",
    "from scipy.stats import norm\n",
    "from scipy.stats import chi2\n",
    "from scipy.stats import kurtosis\n",
    "from scipy.stats import skew\n",
    "from scipy.stats import wasserstein_distance\n",
    "from numba import jit\n",
    "from scipy.special import rel_entr\n",
    "\n",
    "\n",
    "import warnings\n",
    "warnings.filterwarnings(\"ignore\")"
   ]
  },
  {
   "cell_type": "code",
   "execution_count": 92,
   "id": "b7fafae8",
   "metadata": {},
   "outputs": [],
   "source": [
    "ratio=(1+np.sqrt(5))/2"
   ]
  },
  {
   "cell_type": "code",
   "execution_count": 93,
   "id": "6923cd94",
   "metadata": {},
   "outputs": [],
   "source": [
    "date_and_time=time.localtime()\n",
    "string_date=str(date_and_time.tm_year)+'-'+str(date_and_time.tm_mon)+'-'+str(date_and_time.tm_mday)+'-'+str(date_and_time.tm_hour)+'-'+str(date_and_time.tm_min)+'-'+str(date_and_time.tm_sec)"
   ]
  },
  {
   "cell_type": "markdown",
   "id": "40a1e226",
   "metadata": {},
   "source": [
    "Specify hereafter the folder you want to use"
   ]
  },
  {
   "cell_type": "code",
   "execution_count": 94,
   "id": "a94db23b",
   "metadata": {},
   "outputs": [],
   "source": [
    "read_directory = os.path.join(os.getcwd(),'paper_plots' + string_date + ' timeseries')\n",
    "read_directory = os.path.join(os.getcwd(),'paper_plots_timeseries')"
   ]
  },
  {
   "cell_type": "code",
   "execution_count": 95,
   "id": "28f44b12",
   "metadata": {},
   "outputs": [],
   "source": [
    "try:\n",
    "    os.makedirs(os.path.join(read_directory,'data'))\n",
    "    os.makedirs(os.path.join(read_directory,'plots'))\n",
    "except FileExistsError:\n",
    "    pass"
   ]
  },
  {
   "cell_type": "code",
   "execution_count": 96,
   "id": "af3e8cee",
   "metadata": {},
   "outputs": [],
   "source": [
    "# font = {\n",
    "    # 'family' : 'Arial',\n",
    "    # 'color'  : 'black',\n",
    "    # 'weight' : 'normal',\n",
    "    # 'size'   : 36,\n",
    "# }\n",
    "\n",
    "font = {'size'   : 8,\n",
    "        'sans-serif' : 'Arial'}\n",
    "plt.rc('font', **font)\n",
    "\n",
    "# legendFont = 20"
   ]
  },
  {
   "cell_type": "markdown",
   "id": "ff5ffe84",
   "metadata": {},
   "source": [
    "# Influence of the swtiching noise on the full model"
   ]
  },
  {
   "cell_type": "markdown",
   "id": "22052a42",
   "metadata": {},
   "source": [
    "We plot timeseries of the full model (standard Gillespie algorithm) and of the full model using average switching noise (Gillespie algorithm where the environment switching is replaced by the Hill function).\n",
    "Functions are defined in the file \"master\"."
   ]
  },
  {
   "cell_type": "markdown",
   "id": "068efbfd",
   "metadata": {},
   "source": [
    "We use the set of parameters proposed in _Quantitative single-cell live imaging links HES5 dynamics with cell-state and fate in murine neurogenesis_ (Cerys S. Manning, Veronica Biga, James Boyd, Jochen Kursawe, Bodvar Ymisson, David G. Spiller, Christopher M. Sanderson, Tobias Galla, Magnus Rattray, Nancy Papalopulu), figure 6."
   ]
  },
  {
   "cell_type": "code",
   "execution_count": 97,
   "id": "5b3ed734",
   "metadata": {},
   "outputs": [],
   "source": [
    "alpha_m=39.93\n",
    "alpha_p=21.56\n",
    "mu_m=np.log(2)/30\n",
    "mu_p=np.log(2)/90\n",
    "h=4.78\n",
    "P_0=24201.01\n",
    "\n",
    "T=10000\n",
    "delta_t=0.0001\n",
    "# delta_t=0.01\n",
    "\n",
    "n_t=int(T/delta_t)\n",
    "\n",
    "# val_lambda=10.0\n",
    "# val_Omega=100.0\n",
    "# val_tau=33.0\n",
    "\n",
    "val_lambda=0.1\n",
    "val_Omega=1\n",
    "val_tau=33.0\n",
    "# todo: use val_lambda=0.1 and val_Omega = 1 "
   ]
  },
  {
   "cell_type": "code",
   "execution_count": 98,
   "id": "40be55a7",
   "metadata": {},
   "outputs": [],
   "source": [
    "time_trajm,mRNA_trajm,Hes1_trajm = master.one_trajectory(alpha_m=alpha_m,alpha_p=alpha_p,mu_m=mu_m,mu_p=mu_p,h=h,P_0=P_0,\n",
    "                                                      lambda_s=val_lambda,        \n",
    "                                                      tau=val_tau,\n",
    "                                                      P_init=0,\n",
    "                                                      M_init=0,\n",
    "                                                      T=T,\n",
    "                                                      Omega=val_Omega)\n",
    "\n",
    "time_trajmns,mRNA_trajmns,Hes1_trajmns = master.one_trajectory_noSwitchNoise(alpha_m=alpha_m,alpha_p=alpha_p,mu_m=mu_m,\n",
    "                                                      mu_p=mu_p,\n",
    "                                                      h=h,\n",
    "                                                      P_0=P_0,\n",
    "                                                      tau=val_tau,\n",
    "                                                      P_init=0,\n",
    "                                                      M_init=0,\n",
    "                                                      T=T,\n",
    "                                                      Omega=val_Omega)\n",
    "\n",
    "time_trajmdet,mRNA_trajmdet,Hes1_trajmdet = langevin.resolve_ODE(alpha_m=alpha_m,alpha_p=alpha_p,mu_m=mu_m,mu_p=mu_p,h=h,\n",
    "                                                      P_0=P_0,\n",
    "                                                      tau=val_tau,\n",
    "                                                      P_init=0,\n",
    "                                                      M_init=0,\n",
    "                                                      T=T,\n",
    "                                                      delta_t=0.01)\n"
   ]
  },
  {
   "cell_type": "code",
   "execution_count": 99,
   "id": "91ec5470",
   "metadata": {},
   "outputs": [],
   "source": [
    "time_trajmnd,mRNA_trajmnd,Hes1_trajmnd = langevin.one_trajectory_PDMP(alpha_m=alpha_m,alpha_p=alpha_p,mu_m=mu_m,mu_p=mu_p,h=h,\n",
    "                                                      P_0=P_0,\n",
    "                                                      lambda_s=val_lambda,        \n",
    "                                                      tau=val_tau,\n",
    "                                                      P_init=0,\n",
    "                                                      M_init=0,\n",
    "                                                      T=T, delta_t=delta_t)"
   ]
  },
  {
   "cell_type": "code",
   "execution_count": 100,
   "id": "6cf3d754",
   "metadata": {},
   "outputs": [
    {
     "data": {
      "image/png": "[encoded data removed]",
      "text/plain": [
       "<Figure size 330x200 with 3 Axes>"
      ]
     },
     "metadata": {},
     "output_type": "display_data"
    }
   ],
   "source": [
    "# fig,ax=plt.subplots(3,1, figsize=(7*ratio,7))\n",
    "# fig, ax = plt.subplots(3,1, figsize=(3.15,5.25), constrained_layout = True) \n",
    "# fig, ax = plt.subplots(3,1, figsize=(3.15,1.75), constrained_layout = True, sharex = True) \n",
    "# fig, ax = plt.subplots(3,1, figsize=(3.15,2.0), sharex = True) \n",
    "fig, ax = plt.subplots(3,1, figsize=(3.3,2.0), sharex = True) \n",
    "# fig, ax = plt.subplots(3,1, figsize=(4.25,2.5), sharex = True) \n",
    "    \n",
    "# ax[0].set_title('Hes1 concentration over time',fontdict=font) \n",
    "\n",
    "# ax[0].set_ylim(50000,70000)\n",
    "ax[0].set_ylim(20000,160000)\n",
    "# ax[0].set_yticks([55000, 60000, 65000])\n",
    "# ax[0].set_yticklabels(['5.5', '6.0', '6.5'])  # Set y-axis tick labels manually\n",
    "ax[0].set_yticks([50000, 100000, 150000])\n",
    "ax[0].set_yticklabels(['5', '10', '15'])  # Set y-axis tick labels manually\n",
    "ax[0].set_xlim(0,10000)\n",
    "# ax[0].set_xticks([])\n",
    "ax[0].tick_params(axis='x', bottom=False)  # Remove x-axis ticks for the upper plot\n",
    "\n",
    "    \n",
    "linem, = ax[0].plot(time_trajm,Hes1_trajm, color = 'blue', label = 'Full model', lw = 0.2)\n",
    "# linedet, = ax[0].plot(time_trajmdet,Hes1_trajmdet,'--', color = 'red', alpha=0.3, label = 'Deterministic', lw = 0.2)\n",
    "linedet, = ax[0].plot(time_trajmdet,Hes1_trajmdet,'--', color = 'red', alpha = 0.6, label = 'Deterministic', lw = 1.0)\n",
    "# ax[0].legend([linem,linedet], ['Gillespie','Deterministic'],loc='lower right')\n",
    "\n",
    "\n",
    "\n",
    "ax[1].set_ylabel('$P(t)$/1e4')\n",
    "# ax[1].set_ylim(50000,70000)\n",
    "ax[1].set_ylim(20000,160000)\n",
    "# ax[1].set_yticks([55000, 60000, 65000])\n",
    "ax[1].set_yticks([50000, 100000, 150000])\n",
    "ax[1].set_yticklabels(['5', '10', '15'])  # Set y-axis tick labels manually\n",
    "# ax[1].set_yticklabels(['5.5', '6.0', '6.5'])  # Set y-axis tick labels manually\n",
    "ax[1].set_xlim(0,10000)\n",
    "# ax[1].set_xticks([])\n",
    "ax[1].tick_params(axis='x', bottom=False)  # Remove x-axis ticks for the upper plot\n",
    "\n",
    "linemnd, = ax[1].plot(time_trajmnd,Hes1_trajmnd, color = 'purple', label = 'Bursting noise only', lw = 0.2)\n",
    "linedet, = ax[1].plot(time_trajmdet,Hes1_trajmdet,'--', alpha = 0.6, color = 'red', lw = 1.0)\n",
    "# ax[1].legend([linemnd,linedet], ['PDMP','Deterministic'], loc='lower right')\n",
    "\n",
    "\n",
    "\n",
    "ax[2].set_xlabel('$t$ /min')\n",
    "# ax[2].set_ylim(50000,70000)\n",
    "ax[2].set_ylim(20000,160000)\n",
    "# ax[2].set_yticks([55000, 60000, 65000])\n",
    "# ax[2].set_yticklabels(['5.5', '6.0', '6.5'])  # Set y-axis tick labels manually\n",
    "ax[2].set_yticks([50000, 100000, 150000])\n",
    "ax[2].set_yticklabels(['5', '10', '15'])  # Set y-axis tick labels manually\n",
    "ax[2].set_xlim(0,10000)\n",
    "\n",
    "linemns, = ax[2].plot(time_trajmns,Hes1_trajmns, color = 'orange',label = 'Copy-number noise only', lw = 0.2)\n",
    "linedet, = ax[2].plot(time_trajmdet,Hes1_trajmdet,'--', color = 'red', alpha = 0.6, lw = 1.0)\n",
    "# ax[2].legend([linemns,linedet], ['Gillespie, $\\lambda=\\infty$','Deterministic'], loc='lower right')\n",
    "\n",
    "handles, labels = [], []\n",
    "for this_axis in ax:\n",
    "    this_handle, this_label = this_axis.get_legend_handles_labels()\n",
    "    handles.extend(this_handle)\n",
    "    labels.extend(this_label)\n",
    "\n",
    "plt.subplots_adjust(hspace=0)\n",
    "fig.legend(handles, labels, loc='lower left', ncol =2, fontsize = 8,\n",
    "           bbox_to_anchor=(0.1, 0.75))\n",
    "        #    columnspacing = 1.0,  bbox_to_anchor=(0.01, 0.75))\n",
    "plt.tight_layout(h_pad = 0, rect = [0,-0.05,1,0.82])\n",
    "# plt.tight_layout(h_pad = 0)\n",
    "\n",
    "plt.savefig(os.path.join(read_directory,'plots','comparison_full_with_vs_without_switching_alternative.pdf'))\n",
    "    \n",
    "plt.show()"
   ]
  },
  {
   "cell_type": "code",
   "execution_count": null,
   "id": "dc950bbe",
   "metadata": {},
   "outputs": [],
   "source": []
  },
  {
   "cell_type": "markdown",
   "id": "e7fa5bd8",
   "metadata": {},
   "source": [
    "# Comparison between the Langevin and the full models"
   ]
  },
  {
   "cell_type": "markdown",
   "id": "b1423a36",
   "metadata": {},
   "source": [
    "We plot timeseries of the full model (standard Gillespie algorithm) and of the Langevin model i.e using SPDEs.\n",
    "Functions are defined in the files \"hes1_langevin_Antoine.py\" and \"hes1_master_Antoine.py\"."
   ]
  },
  {
   "cell_type": "code",
   "execution_count": 101,
   "id": "db743b41",
   "metadata": {},
   "outputs": [],
   "source": [
    "alpha_m=39.93\n",
    "alpha_p=21.56\n",
    "mu_m=np.log(2)/30\n",
    "mu_p=np.log(2)/90\n",
    "h=4.78\n",
    "P_0=24201.01\n",
    "\n",
    "T=10000\n",
    "delta_t=0.01\n",
    "\n",
    "n_t=int(T/delta_t)\n",
    "\n",
    "val_lambda=10\n",
    "val_Omega=100\n",
    "val_tau=33\n",
    "# val_lambda=0.1\n",
    "# val_Omega=1\n",
    "# val_tau=33"
   ]
  },
  {
   "cell_type": "code",
   "execution_count": 102,
   "id": "02e5cce9",
   "metadata": {},
   "outputs": [],
   "source": [
    "m_stat,p_stat = utils.resolve_stationary_state(alpha_m,mu_m,alpha_p,mu_p,h,P_0)"
   ]
  },
  {
   "cell_type": "code",
   "execution_count": 103,
   "id": "0637e940",
   "metadata": {},
   "outputs": [],
   "source": [
    "time_trajm,mRNA_trajm,Hes1_trajm = master.one_trajectory(alpha_m=alpha_m,alpha_p=alpha_p,mu_m=mu_m,\n",
    "                                                      mu_p=mu_p,\n",
    "                                                      h=h,\n",
    "                                                      P_0=P_0,\n",
    "                                                      lambda_s=val_lambda,\n",
    "                                                      tau=val_tau,\n",
    "                                                      P_init=0,\n",
    "                                                      M_init=0,\n",
    "                                                      T=T,\n",
    "                                                      Omega=val_Omega)\n",
    "        \n",
    "time_trajl,mRNA_trajl,Hes1_trajl = langevin.one_trajectory(alpha_m=alpha_m,alpha_p=alpha_p,mu_m=mu_m,\n",
    "                                                      mu_p=mu_p,\n",
    "                                                      h=h,\n",
    "                                                      P_0=P_0,\n",
    "                                                      lambda_s=val_lambda,\n",
    "                                                      tau=val_tau,\n",
    "                                                      P_init=0,\n",
    "                                                      M_init=0,\n",
    "                                                      T=T,\n",
    "                                                      delta_t=delta_t,\n",
    "                                                      Omega=val_Omega)\n",
    "\n",
    "time_trajlna,mRNA_trajlna,Hes1_trajlna = langevin.one_trajectory_LNA(alpha_m=alpha_m,alpha_p=alpha_p,mu_m=mu_m,\n",
    "                                                      mu_p=mu_p,\n",
    "                                                      h=h,\n",
    "                                                      P_0=P_0,\n",
    "                                                      lambda_s=val_lambda,\n",
    "                                                      tau=val_tau,\n",
    "                                                      T=T,\n",
    "                                                      delta_t=delta_t,\n",
    "                                                      Omega=val_Omega)"
   ]
  },
  {
   "cell_type": "code",
   "execution_count": 104,
   "id": "f5068a81",
   "metadata": {
    "scrolled": false
   },
   "outputs": [
    {
     "data": {
      "image/png": "[encoded data removed]",
      "text/plain": [
       "<Figure size 330x200 with 3 Axes>"
      ]
     },
     "metadata": {},
     "output_type": "display_data"
    }
   ],
   "source": [
    "fig,ax=plt.subplots(3,1,figsize=(3.3,2.0), sharex = True)\n",
    "    \n",
    "# ax[0].set_ylim(20000,160000)\n",
    "ax[0].set_xlim(0,10000)\n",
    "    \n",
    "linem,=ax[0].plot(time_trajm,Hes1_trajm, color = 'blue', label = 'Full model', lw = 0.2)\n",
    "# ax[0].legend([linem], ['Full model'], loc='upper right')\n",
    "ax[0].tick_params(axis='x', bottom=False)  # Remove x-axis ticks for the upper plot\n",
    "# ax[0].set_yticks([50000, 100000, 150000])\n",
    "# ax[0].set_yticklabels(['5', '10', '15'])  # Set y-axis tick labels manually\n",
    "ax[0].set_ylim(50000,70000)\n",
    "ax[0].set_yticks([55000, 60000, 65000])\n",
    "ax[0].set_yticklabels(['5.5', '6.0', '6.5'])  # Set y-axis tick labels manually\n",
    "\n",
    "\n",
    "ax[1].set_ylabel('$P(t)$/1e4') \n",
    "\n",
    "# ax[1].set_ylim(20000,160000)\n",
    "# ax[1].set_yticks([50000, 100000, 150000])\n",
    "# ax[1].set_yticklabels(['5', '10', '15'])  # Set y-axis tick labels manually\n",
    "ax[1].set_ylim(50000,70000)\n",
    "ax[1].set_yticks([55000, 60000, 65000])\n",
    "ax[1].set_yticklabels(['5.5', '6.0', '6.5'])  # Set y-axis tick labels manually\n",
    "ax[1].set_xlim(0,10000)\n",
    "    \n",
    "linel,=ax[1].plot(time_trajl,Hes1_trajl, color = 'green', label = 'CLE', lw = 0.2)\n",
    "# ax[1].legend([linel], ['Langevin model'], loc='upper right')\n",
    "ax[1].tick_params(axis='x', bottom=False)  # Remove x-axis ticks for the upper plot\n",
    "\n",
    "\n",
    "\n",
    "ax[2].set_xlabel('$t$ /min') \n",
    "\n",
    "# ax[2].set_ylim(20000,160000)\n",
    "# ax[2].set_xlim(0,10000)\n",
    "# ax[2].set_yticks([50000, 100000, 150000])\n",
    "ax[2].set_ylim(50000,70000)\n",
    "ax[2].set_yticks([55000, 60000, 65000])\n",
    "ax[2].set_yticklabels(['5.5', '6.0', '6.5'])  # Set y-axis tick labels manually\n",
    "# ax[2].set_yticklabels(['5', '10', '15'])  # Set y-axis tick labels manually\n",
    "    \n",
    "linelna,=ax[2].plot(time_trajlna,Hes1_trajlna, color = 'red', label = 'LNA', lw = 0.2, ls= '--')\n",
    "# ax[2].legend([linelna], ['LNA model'], loc='upper right')\n",
    "\n",
    "handles, labels = [], []\n",
    "for this_axis in ax:\n",
    "    this_handle, this_label = this_axis.get_legend_handles_labels()\n",
    "    handles.extend(this_handle)\n",
    "    labels.extend(this_label)\n",
    "\n",
    "plt.subplots_adjust(hspace=0)\n",
    "fig.legend(handles, labels, loc='lower left', ncol =3, fontsize = 8,  bbox_to_anchor=(0.2, 0.8))\n",
    "plt.tight_layout(h_pad = 0, rect = [0,-0.07,1,0.85])\n",
    "\n",
    "fig.text(0.02,0.9,'A',size=9,weight='bold')\n",
    "plt.savefig(os.path.join(read_directory,'plots','comparison_Full_vs_Langevin.pdf'))\n",
    "plt.show()"
   ]
  },
  {
   "cell_type": "code",
   "execution_count": 105,
   "id": "9a0b0483",
   "metadata": {},
   "outputs": [
    {
     "name": "stdout",
     "output_type": "stream",
     "text": [
      "Function1 runtime: 61.758927 seconds\n",
      "Function2 runtime: 0.085170 seconds\n",
      "Function2 is faster.\n",
      "725.1230036217745\n"
     ]
    }
   ],
   "source": [
    "# now simulate some trajectories and time then\n",
    "\n",
    "import timeit\n",
    "\n",
    "time_function1 = timeit.timeit('''master.one_trajectory(alpha_m=alpha_m,alpha_p=alpha_p,mu_m=mu_m,\n",
    "                                                      mu_p=mu_p,\n",
    "                                                      h=h,\n",
    "                                                      P_0=P_0,\n",
    "                                                      lambda_s=val_lambda,\n",
    "                                                      tau=val_tau,\n",
    "                                                      P_init=0,\n",
    "                                                      M_init=0,\n",
    "                                                      T=T,\n",
    "                                                      Omega=val_Omega)''', globals=globals(), number=1)\n",
    "\n",
    "# Measure the runtime of function2\n",
    "time_function2 = timeit.timeit('''langevin.one_trajectory(alpha_m=alpha_m,alpha_p=alpha_p,mu_m=mu_m,\n",
    "                                                      mu_p=mu_p,\n",
    "                                                      h=h,\n",
    "                                                      P_0=P_0,\n",
    "                                                      lambda_s=val_lambda,\n",
    "                                                      tau=val_tau,\n",
    "                                                      P_init=0,\n",
    "                                                      M_init=0,\n",
    "                                                      T=T,\n",
    "                                                      delta_t=delta_t,\n",
    "                                                      Omega=val_Omega)''', globals=globals(), number=1)\n",
    "\n",
    "print(f\"Function1 runtime: {time_function1:.6f} seconds\")\n",
    "print(f\"Function2 runtime: {time_function2:.6f} seconds\")\n",
    "\n",
    "# Compare the runtimes\n",
    "if time_function1 < time_function2:\n",
    "    print(\"Function1 is faster.\")\n",
    "else:\n",
    "    print(\"Function2 is faster.\")\n",
    "    \n",
    "print(time_function1/time_function2)"
   ]
  },
  {
   "cell_type": "code",
   "execution_count": 106,
   "id": "09d30198",
   "metadata": {},
   "outputs": [
    {
     "data": {
      "text/plain": [
       "<matplotlib.legend.Legend at 0x7f848b3948b0>"
      ]
     },
     "execution_count": 106,
     "metadata": {},
     "output_type": "execute_result"
    },
    {
     "data": {
      "image/png": "[encoded data removed]",
      "text/plain": [
       "<Figure size 647.214x400 with 1 Axes>"
      ]
     },
     "metadata": {},
     "output_type": "display_data"
    }
   ],
   "source": [
    "time_trajdet,mRNA_trajdet,Hes1_trajdet = langevin.resolve_ODE(alpha_m=alpha_m,alpha_p=alpha_p,mu_m=mu_m,\n",
    "                                                      mu_p=mu_p,\n",
    "                                                      h=h,\n",
    "                                                      P_0=P_0,\n",
    "                                                      tau=val_tau,\n",
    "                                                      P_init=0,\n",
    "                                                      M_init=0,\n",
    "                                                      T=T,\n",
    "                                                      delta_t=delta_t)\n",
    "\n",
    "fig,ax=plt.subplots(1,1,figsize=(4*ratio,4))\n",
    "    \n",
    "ax.set_title('Hes1 concentration over time') \n",
    "ax.set_ylabel('Hes1 concentration') \n",
    "\n",
    "ax.set_ylim(45000,80000)\n",
    "ax.set_xlim(0,10000)\n",
    "    \n",
    "linem,=ax.plot(time_trajdet,Hes1_trajdet, color = 'black')\n",
    "ax.legend([linem], ['Deterministic model'], loc='upper right')"
   ]
  },
  {
   "cell_type": "markdown",
   "id": "a7b4271d",
   "metadata": {},
   "source": [
    "Importantly, we observe that the deterministic solution is non oscillating. This is coherent with the results of _Wu, X. P., Eshete, M. (2011). Bifurcation analysis for a model of gene expression with delays.\n",
    "Communications in Nonlinear Science and Numerical Simulation, 16(2), 1073–1088_:\n",
    "if $M^*$ and $P^*$ are the constant stationary solution, then define\n",
    "$$\\omega_0^2 = \\alpha_m \\alpha_p |f'(P^*)| - \\mu_m \\mu_p,$$\n",
    "and\n",
    "$$a = \\frac{-\\omega_0^2 + \\mu_m \\mu_p}{\\alpha_m \\alpha_p f'(P^*)},$$\n",
    "with $$ \\frac{h}{P_0}\\frac{(\\frac{P^*}{P_0})^{h-1}}{(1+(\\frac{P^*}{P_0})^h)^2}.$$"
   ]
  },
  {
   "cell_type": "code",
   "execution_count": 107,
   "id": "72d9e777",
   "metadata": {},
   "outputs": [],
   "source": [
    "m_stat,p_stat = utils.resolve_stationary_state(alpha_m,mu_m,alpha_p,mu_p,h,P_0)\n",
    "w_0=np.sqrt(abs(alpha_m *alpha_p*abs(h/P_0*(p_stat/P_0)**(h-1)/(1+(p_stat/P_0)**h)**2) - mu_m*mu_p))\n",
    "aaa = (-w_0**2 + mu_m*mu_p)/(alpha_m *alpha_p*(-h/P_0*(p_stat/P_0)**(h-1)/(1+(p_stat/P_0)**h)**2))"
   ]
  },
  {
   "cell_type": "markdown",
   "id": "63c1503e",
   "metadata": {},
   "source": [
    "Then, denote the increasing sequence $\\tau_j$,\n",
    "$$\\tau_j = \\frac{1}{\\omega_0}(arccos(a)+2\\pi j),$$\n",
    "so that if $\\tau_j \\leq \\tau \\leq \\tau_{j+1}$, there are at least $j$ oscillating (unbounded) solutions to the problem."
   ]
  },
  {
   "cell_type": "code",
   "execution_count": 108,
   "id": "32cb6372",
   "metadata": {
    "scrolled": true
   },
   "outputs": [
    {
     "data": {
      "text/plain": [
       "(37.178871215533164, 281.37866789963823)"
      ]
     },
     "execution_count": 108,
     "metadata": {},
     "output_type": "execute_result"
    }
   ],
   "source": [
    "tau_0 = np.arccos(aaa)/w_0\n",
    "tau_1 = (np.arccos(aaa) + 2*np.pi)/w_0\n",
    "\n",
    "tau_0,tau_1"
   ]
  },
  {
   "cell_type": "markdown",
   "id": "a6337cd5",
   "metadata": {},
   "source": [
    "Therefore, we do have $\\tau = 33 min < \\tau_0 \\approx 37.2 min$. Hence, we expect no (unbounded) oscillation in the deterministic model in steady state."
   ]
  }
 ],
 "metadata": {
  "kernelspec": {
   "display_name": "Python 3 (ipykernel)",
   "language": "python",
   "name": "python3"
  },
  "language_info": {
   "codemirror_mode": {
    "name": "ipython",
    "version": 3
   },
   "file_extension": ".py",
   "mimetype": "text/x-python",
   "name": "python",
   "nbconvert_exporter": "python",
   "pygments_lexer": "ipython3",
   "version": "3.9.7"
  }
 },
 "nbformat": 4,
 "nbformat_minor": 5
}
